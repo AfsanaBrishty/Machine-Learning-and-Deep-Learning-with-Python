{
  "nbformat": 4,
  "nbformat_minor": 0,
  "metadata": {
    "colab": {
      "name": "Decision Tree and Random Forest.ipynb",
      "provenance": [],
      "collapsed_sections": [],
      "include_colab_link": true
    },
    "kernelspec": {
      "name": "python3",
      "display_name": "Python 3"
    }
  },
  "cells": [
    {
      "cell_type": "markdown",
      "metadata": {
        "id": "view-in-github",
        "colab_type": "text"
      },
      "source": [
        "<a href=\"https://colab.research.google.com/github/AfsanaBrishty/Machine-Learning-and-Deep-Learning-with-Python/blob/main/Decision_Tree_and_Random_Forest.ipynb\" target=\"_parent\"><img src=\"https://colab.research.google.com/assets/colab-badge.svg\" alt=\"Open In Colab\"/></a>"
      ]
    },
    {
      "cell_type": "markdown",
      "metadata": {
        "id": "T8c5qDW4bmOQ"
      },
      "source": [
        "Github Link:\r\n",
        "https://github.com/AfsanaBrishty/Machine-Learning-and-Deep-Learning-with-Python/blob/main/Decision_Tree_and_Random_Forest.ipynb"
      ]
    },
    {
      "cell_type": "code",
      "metadata": {
        "colab": {
          "base_uri": "https://localhost:8080/",
          "height": 224
        },
        "id": "zIsHcxu1LQIb",
        "outputId": "5fd1119b-b119-4ab4-ffef-e41ccec15ed0"
      },
      "source": [
        "import pandas as pd\r\n",
        "df = pd.read_csv(\"JSVulnerabilityDataSet-1.0.csv\")\r\n",
        "df.head()"
      ],
      "execution_count": 62,
      "outputs": [
        {
          "output_type": "execute_result",
          "data": {
            "text/html": [
              "<div>\n",
              "<style scoped>\n",
              "    .dataframe tbody tr th:only-of-type {\n",
              "        vertical-align: middle;\n",
              "    }\n",
              "\n",
              "    .dataframe tbody tr th {\n",
              "        vertical-align: top;\n",
              "    }\n",
              "\n",
              "    .dataframe thead th {\n",
              "        text-align: right;\n",
              "    }\n",
              "</style>\n",
              "<table border=\"1\" class=\"dataframe\">\n",
              "  <thead>\n",
              "    <tr style=\"text-align: right;\">\n",
              "      <th></th>\n",
              "      <th>name</th>\n",
              "      <th>longname</th>\n",
              "      <th>path</th>\n",
              "      <th>full_repo_path</th>\n",
              "      <th>line</th>\n",
              "      <th>column</th>\n",
              "      <th>endline</th>\n",
              "      <th>endcolumn</th>\n",
              "      <th>CC</th>\n",
              "      <th>CCL</th>\n",
              "      <th>CCO</th>\n",
              "      <th>CI</th>\n",
              "      <th>CLC</th>\n",
              "      <th>CLLC</th>\n",
              "      <th>McCC</th>\n",
              "      <th>NL</th>\n",
              "      <th>NLE</th>\n",
              "      <th>CD</th>\n",
              "      <th>CLOC</th>\n",
              "      <th>DLOC</th>\n",
              "      <th>TCD</th>\n",
              "      <th>TCLOC</th>\n",
              "      <th>LLOC</th>\n",
              "      <th>LOC</th>\n",
              "      <th>NOS</th>\n",
              "      <th>NUMPAR</th>\n",
              "      <th>TLLOC</th>\n",
              "      <th>TLOC</th>\n",
              "      <th>TNOS</th>\n",
              "      <th>HOR_D</th>\n",
              "      <th>HOR_T</th>\n",
              "      <th>HON_D</th>\n",
              "      <th>HON_T</th>\n",
              "      <th>HLEN</th>\n",
              "      <th>HVOC</th>\n",
              "      <th>HDIFF</th>\n",
              "      <th>HVOL</th>\n",
              "      <th>HEFF</th>\n",
              "      <th>HBUGS</th>\n",
              "      <th>HTIME</th>\n",
              "      <th>CYCL</th>\n",
              "      <th>PARAMS</th>\n",
              "      <th>CYCL_DENS</th>\n",
              "      <th>Vuln</th>\n",
              "    </tr>\n",
              "  </thead>\n",
              "  <tbody>\n",
              "    <tr>\n",
              "      <th>0</th>\n",
              "      <td>initFileServer</td>\n",
              "      <td>initializers.initFileServer.initFileServer</td>\n",
              "      <td>initializers/initFileServer.js</td>\n",
              "      <td>https://github.com/actionhero/actionhero/blob/...</td>\n",
              "      <td>4</td>\n",
              "      <td>21</td>\n",
              "      <td>128</td>\n",
              "      <td>1</td>\n",
              "      <td>0.0</td>\n",
              "      <td>0</td>\n",
              "      <td>0</td>\n",
              "      <td>0</td>\n",
              "      <td>0.0</td>\n",
              "      <td>0</td>\n",
              "      <td>3</td>\n",
              "      <td>1</td>\n",
              "      <td>1</td>\n",
              "      <td>0.000000</td>\n",
              "      <td>0</td>\n",
              "      <td>0</td>\n",
              "      <td>0.008621</td>\n",
              "      <td>1</td>\n",
              "      <td>18</td>\n",
              "      <td>25</td>\n",
              "      <td>10</td>\n",
              "      <td>2</td>\n",
              "      <td>115</td>\n",
              "      <td>125</td>\n",
              "      <td>83</td>\n",
              "      <td>7</td>\n",
              "      <td>37</td>\n",
              "      <td>14</td>\n",
              "      <td>41</td>\n",
              "      <td>78</td>\n",
              "      <td>21</td>\n",
              "      <td>10.250000</td>\n",
              "      <td>342.600759</td>\n",
              "      <td>3511.657780</td>\n",
              "      <td>0.114200</td>\n",
              "      <td>195.092099</td>\n",
              "      <td>3</td>\n",
              "      <td>2</td>\n",
              "      <td>30.0</td>\n",
              "      <td>1</td>\n",
              "    </tr>\n",
              "    <tr>\n",
              "      <th>1</th>\n",
              "      <td>api.sendFile</td>\n",
              "      <td>initializers.initFileServer.initFileServer.sen...</td>\n",
              "      <td>initializers/initFileServer.js</td>\n",
              "      <td>https://github.com/actionhero/actionhero/blob/...</td>\n",
              "      <td>15</td>\n",
              "      <td>16</td>\n",
              "      <td>40</td>\n",
              "      <td>2</td>\n",
              "      <td>0.0</td>\n",
              "      <td>0</td>\n",
              "      <td>0</td>\n",
              "      <td>0</td>\n",
              "      <td>0.0</td>\n",
              "      <td>0</td>\n",
              "      <td>11</td>\n",
              "      <td>3</td>\n",
              "      <td>3</td>\n",
              "      <td>0.041667</td>\n",
              "      <td>1</td>\n",
              "      <td>0</td>\n",
              "      <td>0.041667</td>\n",
              "      <td>1</td>\n",
              "      <td>23</td>\n",
              "      <td>26</td>\n",
              "      <td>22</td>\n",
              "      <td>3</td>\n",
              "      <td>23</td>\n",
              "      <td>26</td>\n",
              "      <td>22</td>\n",
              "      <td>16</td>\n",
              "      <td>74</td>\n",
              "      <td>32</td>\n",
              "      <td>86</td>\n",
              "      <td>160</td>\n",
              "      <td>48</td>\n",
              "      <td>21.500000</td>\n",
              "      <td>893.594000</td>\n",
              "      <td>19212.271002</td>\n",
              "      <td>0.297865</td>\n",
              "      <td>1067.348389</td>\n",
              "      <td>9</td>\n",
              "      <td>3</td>\n",
              "      <td>37.5</td>\n",
              "      <td>1</td>\n",
              "    </tr>\n",
              "    <tr>\n",
              "      <th>2</th>\n",
              "      <td>&lt;anonymous&gt;.followFileToServe</td>\n",
              "      <td>initializers.initFileServer.initFileServer.fol...</td>\n",
              "      <td>initializers/initFileServer.js</td>\n",
              "      <td>https://github.com/actionhero/actionhero/blob/...</td>\n",
              "      <td>42</td>\n",
              "      <td>36</td>\n",
              "      <td>65</td>\n",
              "      <td>2</td>\n",
              "      <td>0.0</td>\n",
              "      <td>0</td>\n",
              "      <td>0</td>\n",
              "      <td>0</td>\n",
              "      <td>0.0</td>\n",
              "      <td>0</td>\n",
              "      <td>1</td>\n",
              "      <td>0</td>\n",
              "      <td>0</td>\n",
              "      <td>0.000000</td>\n",
              "      <td>0</td>\n",
              "      <td>0</td>\n",
              "      <td>0.000000</td>\n",
              "      <td>0</td>\n",
              "      <td>4</td>\n",
              "      <td>4</td>\n",
              "      <td>1</td>\n",
              "      <td>4</td>\n",
              "      <td>24</td>\n",
              "      <td>24</td>\n",
              "      <td>15</td>\n",
              "      <td>3</td>\n",
              "      <td>4</td>\n",
              "      <td>7</td>\n",
              "      <td>9</td>\n",
              "      <td>13</td>\n",
              "      <td>10</td>\n",
              "      <td>1.928571</td>\n",
              "      <td>43.185065</td>\n",
              "      <td>83.285483</td>\n",
              "      <td>0.014395</td>\n",
              "      <td>4.626971</td>\n",
              "      <td>1</td>\n",
              "      <td>4</td>\n",
              "      <td>100.0</td>\n",
              "      <td>1</td>\n",
              "    </tr>\n",
              "    <tr>\n",
              "      <th>3</th>\n",
              "      <td>&lt;anonymous&gt;.sendFile</td>\n",
              "      <td>initializers.initFileServer.initFileServer.sen...</td>\n",
              "      <td>initializers/initFileServer.js</td>\n",
              "      <td>https://github.com/actionhero/actionhero/blob/...</td>\n",
              "      <td>67</td>\n",
              "      <td>27</td>\n",
              "      <td>110</td>\n",
              "      <td>2</td>\n",
              "      <td>0.0</td>\n",
              "      <td>0</td>\n",
              "      <td>0</td>\n",
              "      <td>0</td>\n",
              "      <td>0.0</td>\n",
              "      <td>0</td>\n",
              "      <td>1</td>\n",
              "      <td>0</td>\n",
              "      <td>0</td>\n",
              "      <td>0.000000</td>\n",
              "      <td>0</td>\n",
              "      <td>0</td>\n",
              "      <td>0.000000</td>\n",
              "      <td>0</td>\n",
              "      <td>4</td>\n",
              "      <td>4</td>\n",
              "      <td>1</td>\n",
              "      <td>4</td>\n",
              "      <td>44</td>\n",
              "      <td>44</td>\n",
              "      <td>27</td>\n",
              "      <td>3</td>\n",
              "      <td>4</td>\n",
              "      <td>7</td>\n",
              "      <td>9</td>\n",
              "      <td>13</td>\n",
              "      <td>10</td>\n",
              "      <td>1.928571</td>\n",
              "      <td>43.185065</td>\n",
              "      <td>83.285483</td>\n",
              "      <td>0.014395</td>\n",
              "      <td>4.626971</td>\n",
              "      <td>1</td>\n",
              "      <td>4</td>\n",
              "      <td>100.0</td>\n",
              "      <td>0</td>\n",
              "    </tr>\n",
              "    <tr>\n",
              "      <th>4</th>\n",
              "      <td>&lt;anonymous&gt;.sendFileNotFound</td>\n",
              "      <td>initializers.initFileServer.initFileServer.sen...</td>\n",
              "      <td>initializers/initFileServer.js</td>\n",
              "      <td>https://github.com/actionhero/actionhero/blob/...</td>\n",
              "      <td>112</td>\n",
              "      <td>35</td>\n",
              "      <td>125</td>\n",
              "      <td>2</td>\n",
              "      <td>0.0</td>\n",
              "      <td>0</td>\n",
              "      <td>0</td>\n",
              "      <td>0</td>\n",
              "      <td>0.0</td>\n",
              "      <td>0</td>\n",
              "      <td>3</td>\n",
              "      <td>2</td>\n",
              "      <td>2</td>\n",
              "      <td>0.000000</td>\n",
              "      <td>0</td>\n",
              "      <td>0</td>\n",
              "      <td>0.000000</td>\n",
              "      <td>0</td>\n",
              "      <td>14</td>\n",
              "      <td>14</td>\n",
              "      <td>9</td>\n",
              "      <td>3</td>\n",
              "      <td>14</td>\n",
              "      <td>14</td>\n",
              "      <td>9</td>\n",
              "      <td>10</td>\n",
              "      <td>33</td>\n",
              "      <td>27</td>\n",
              "      <td>47</td>\n",
              "      <td>80</td>\n",
              "      <td>37</td>\n",
              "      <td>8.703704</td>\n",
              "      <td>416.756269</td>\n",
              "      <td>3627.323084</td>\n",
              "      <td>0.138919</td>\n",
              "      <td>201.517949</td>\n",
              "      <td>3</td>\n",
              "      <td>3</td>\n",
              "      <td>30.0</td>\n",
              "      <td>0</td>\n",
              "    </tr>\n",
              "  </tbody>\n",
              "</table>\n",
              "</div>"
            ],
            "text/plain": [
              "                            name  ... Vuln\n",
              "0                 initFileServer  ...    1\n",
              "1                   api.sendFile  ...    1\n",
              "2  <anonymous>.followFileToServe  ...    1\n",
              "3           <anonymous>.sendFile  ...    0\n",
              "4   <anonymous>.sendFileNotFound  ...    0\n",
              "\n",
              "[5 rows x 44 columns]"
            ]
          },
          "metadata": {
            "tags": []
          },
          "execution_count": 62
        }
      ]
    },
    {
      "cell_type": "markdown",
      "metadata": {
        "id": "IDO7WMj6S5i7"
      },
      "source": [
        "Decision Tree:"
      ]
    },
    {
      "cell_type": "code",
      "metadata": {
        "id": "FY1IEz3GB-r_"
      },
      "source": [
        "inputs = df.drop(['name','longname','path','full_repo_path','Vuln'],axis='columns')\r\n",
        "target = df['Vuln']"
      ],
      "execution_count": 63,
      "outputs": []
    },
    {
      "cell_type": "code",
      "metadata": {
        "colab": {
          "base_uri": "https://localhost:8080/",
          "height": 439
        },
        "id": "lVU9DRwIB-7X",
        "outputId": "315b419d-c3fe-4e5c-91cd-f3dbd0205d36"
      },
      "source": [
        "inputs"
      ],
      "execution_count": 32,
      "outputs": [
        {
          "output_type": "execute_result",
          "data": {
            "text/html": [
              "<div>\n",
              "<style scoped>\n",
              "    .dataframe tbody tr th:only-of-type {\n",
              "        vertical-align: middle;\n",
              "    }\n",
              "\n",
              "    .dataframe tbody tr th {\n",
              "        vertical-align: top;\n",
              "    }\n",
              "\n",
              "    .dataframe thead th {\n",
              "        text-align: right;\n",
              "    }\n",
              "</style>\n",
              "<table border=\"1\" class=\"dataframe\">\n",
              "  <thead>\n",
              "    <tr style=\"text-align: right;\">\n",
              "      <th></th>\n",
              "      <th>line</th>\n",
              "      <th>column</th>\n",
              "      <th>endline</th>\n",
              "      <th>endcolumn</th>\n",
              "      <th>CC</th>\n",
              "      <th>CCL</th>\n",
              "      <th>CCO</th>\n",
              "      <th>CI</th>\n",
              "      <th>CLC</th>\n",
              "      <th>CLLC</th>\n",
              "      <th>McCC</th>\n",
              "      <th>NL</th>\n",
              "      <th>NLE</th>\n",
              "      <th>CD</th>\n",
              "      <th>CLOC</th>\n",
              "      <th>DLOC</th>\n",
              "      <th>TCD</th>\n",
              "      <th>TCLOC</th>\n",
              "      <th>LLOC</th>\n",
              "      <th>LOC</th>\n",
              "      <th>NOS</th>\n",
              "      <th>NUMPAR</th>\n",
              "      <th>TLLOC</th>\n",
              "      <th>TLOC</th>\n",
              "      <th>TNOS</th>\n",
              "      <th>HOR_D</th>\n",
              "      <th>HOR_T</th>\n",
              "      <th>HON_D</th>\n",
              "      <th>HON_T</th>\n",
              "      <th>HLEN</th>\n",
              "      <th>HVOC</th>\n",
              "      <th>HDIFF</th>\n",
              "      <th>HVOL</th>\n",
              "      <th>HEFF</th>\n",
              "      <th>HBUGS</th>\n",
              "      <th>HTIME</th>\n",
              "      <th>CYCL</th>\n",
              "      <th>PARAMS</th>\n",
              "      <th>CYCL_DENS</th>\n",
              "    </tr>\n",
              "  </thead>\n",
              "  <tbody>\n",
              "    <tr>\n",
              "      <th>0</th>\n",
              "      <td>4</td>\n",
              "      <td>21</td>\n",
              "      <td>128</td>\n",
              "      <td>1</td>\n",
              "      <td>0.0</td>\n",
              "      <td>0</td>\n",
              "      <td>0</td>\n",
              "      <td>0</td>\n",
              "      <td>0.0</td>\n",
              "      <td>0</td>\n",
              "      <td>3</td>\n",
              "      <td>1</td>\n",
              "      <td>1</td>\n",
              "      <td>0.000000</td>\n",
              "      <td>0</td>\n",
              "      <td>0</td>\n",
              "      <td>0.008621</td>\n",
              "      <td>1</td>\n",
              "      <td>18</td>\n",
              "      <td>25</td>\n",
              "      <td>10</td>\n",
              "      <td>2</td>\n",
              "      <td>115</td>\n",
              "      <td>125</td>\n",
              "      <td>83</td>\n",
              "      <td>7</td>\n",
              "      <td>37</td>\n",
              "      <td>14</td>\n",
              "      <td>41</td>\n",
              "      <td>78</td>\n",
              "      <td>21</td>\n",
              "      <td>10.250000</td>\n",
              "      <td>342.600759</td>\n",
              "      <td>3511.657780</td>\n",
              "      <td>0.114200</td>\n",
              "      <td>195.092099</td>\n",
              "      <td>3</td>\n",
              "      <td>2</td>\n",
              "      <td>30.000000</td>\n",
              "    </tr>\n",
              "    <tr>\n",
              "      <th>1</th>\n",
              "      <td>15</td>\n",
              "      <td>16</td>\n",
              "      <td>40</td>\n",
              "      <td>2</td>\n",
              "      <td>0.0</td>\n",
              "      <td>0</td>\n",
              "      <td>0</td>\n",
              "      <td>0</td>\n",
              "      <td>0.0</td>\n",
              "      <td>0</td>\n",
              "      <td>11</td>\n",
              "      <td>3</td>\n",
              "      <td>3</td>\n",
              "      <td>0.041667</td>\n",
              "      <td>1</td>\n",
              "      <td>0</td>\n",
              "      <td>0.041667</td>\n",
              "      <td>1</td>\n",
              "      <td>23</td>\n",
              "      <td>26</td>\n",
              "      <td>22</td>\n",
              "      <td>3</td>\n",
              "      <td>23</td>\n",
              "      <td>26</td>\n",
              "      <td>22</td>\n",
              "      <td>16</td>\n",
              "      <td>74</td>\n",
              "      <td>32</td>\n",
              "      <td>86</td>\n",
              "      <td>160</td>\n",
              "      <td>48</td>\n",
              "      <td>21.500000</td>\n",
              "      <td>893.594000</td>\n",
              "      <td>19212.271002</td>\n",
              "      <td>0.297865</td>\n",
              "      <td>1067.348389</td>\n",
              "      <td>9</td>\n",
              "      <td>3</td>\n",
              "      <td>37.500000</td>\n",
              "    </tr>\n",
              "    <tr>\n",
              "      <th>2</th>\n",
              "      <td>42</td>\n",
              "      <td>36</td>\n",
              "      <td>65</td>\n",
              "      <td>2</td>\n",
              "      <td>0.0</td>\n",
              "      <td>0</td>\n",
              "      <td>0</td>\n",
              "      <td>0</td>\n",
              "      <td>0.0</td>\n",
              "      <td>0</td>\n",
              "      <td>1</td>\n",
              "      <td>0</td>\n",
              "      <td>0</td>\n",
              "      <td>0.000000</td>\n",
              "      <td>0</td>\n",
              "      <td>0</td>\n",
              "      <td>0.000000</td>\n",
              "      <td>0</td>\n",
              "      <td>4</td>\n",
              "      <td>4</td>\n",
              "      <td>1</td>\n",
              "      <td>4</td>\n",
              "      <td>24</td>\n",
              "      <td>24</td>\n",
              "      <td>15</td>\n",
              "      <td>3</td>\n",
              "      <td>4</td>\n",
              "      <td>7</td>\n",
              "      <td>9</td>\n",
              "      <td>13</td>\n",
              "      <td>10</td>\n",
              "      <td>1.928571</td>\n",
              "      <td>43.185065</td>\n",
              "      <td>83.285483</td>\n",
              "      <td>0.014395</td>\n",
              "      <td>4.626971</td>\n",
              "      <td>1</td>\n",
              "      <td>4</td>\n",
              "      <td>100.000000</td>\n",
              "    </tr>\n",
              "    <tr>\n",
              "      <th>3</th>\n",
              "      <td>67</td>\n",
              "      <td>27</td>\n",
              "      <td>110</td>\n",
              "      <td>2</td>\n",
              "      <td>0.0</td>\n",
              "      <td>0</td>\n",
              "      <td>0</td>\n",
              "      <td>0</td>\n",
              "      <td>0.0</td>\n",
              "      <td>0</td>\n",
              "      <td>1</td>\n",
              "      <td>0</td>\n",
              "      <td>0</td>\n",
              "      <td>0.000000</td>\n",
              "      <td>0</td>\n",
              "      <td>0</td>\n",
              "      <td>0.000000</td>\n",
              "      <td>0</td>\n",
              "      <td>4</td>\n",
              "      <td>4</td>\n",
              "      <td>1</td>\n",
              "      <td>4</td>\n",
              "      <td>44</td>\n",
              "      <td>44</td>\n",
              "      <td>27</td>\n",
              "      <td>3</td>\n",
              "      <td>4</td>\n",
              "      <td>7</td>\n",
              "      <td>9</td>\n",
              "      <td>13</td>\n",
              "      <td>10</td>\n",
              "      <td>1.928571</td>\n",
              "      <td>43.185065</td>\n",
              "      <td>83.285483</td>\n",
              "      <td>0.014395</td>\n",
              "      <td>4.626971</td>\n",
              "      <td>1</td>\n",
              "      <td>4</td>\n",
              "      <td>100.000000</td>\n",
              "    </tr>\n",
              "    <tr>\n",
              "      <th>4</th>\n",
              "      <td>112</td>\n",
              "      <td>35</td>\n",
              "      <td>125</td>\n",
              "      <td>2</td>\n",
              "      <td>0.0</td>\n",
              "      <td>0</td>\n",
              "      <td>0</td>\n",
              "      <td>0</td>\n",
              "      <td>0.0</td>\n",
              "      <td>0</td>\n",
              "      <td>3</td>\n",
              "      <td>2</td>\n",
              "      <td>2</td>\n",
              "      <td>0.000000</td>\n",
              "      <td>0</td>\n",
              "      <td>0</td>\n",
              "      <td>0.000000</td>\n",
              "      <td>0</td>\n",
              "      <td>14</td>\n",
              "      <td>14</td>\n",
              "      <td>9</td>\n",
              "      <td>3</td>\n",
              "      <td>14</td>\n",
              "      <td>14</td>\n",
              "      <td>9</td>\n",
              "      <td>10</td>\n",
              "      <td>33</td>\n",
              "      <td>27</td>\n",
              "      <td>47</td>\n",
              "      <td>80</td>\n",
              "      <td>37</td>\n",
              "      <td>8.703704</td>\n",
              "      <td>416.756269</td>\n",
              "      <td>3627.323084</td>\n",
              "      <td>0.138919</td>\n",
              "      <td>201.517949</td>\n",
              "      <td>3</td>\n",
              "      <td>3</td>\n",
              "      <td>30.000000</td>\n",
              "    </tr>\n",
              "    <tr>\n",
              "      <th>...</th>\n",
              "      <td>...</td>\n",
              "      <td>...</td>\n",
              "      <td>...</td>\n",
              "      <td>...</td>\n",
              "      <td>...</td>\n",
              "      <td>...</td>\n",
              "      <td>...</td>\n",
              "      <td>...</td>\n",
              "      <td>...</td>\n",
              "      <td>...</td>\n",
              "      <td>...</td>\n",
              "      <td>...</td>\n",
              "      <td>...</td>\n",
              "      <td>...</td>\n",
              "      <td>...</td>\n",
              "      <td>...</td>\n",
              "      <td>...</td>\n",
              "      <td>...</td>\n",
              "      <td>...</td>\n",
              "      <td>...</td>\n",
              "      <td>...</td>\n",
              "      <td>...</td>\n",
              "      <td>...</td>\n",
              "      <td>...</td>\n",
              "      <td>...</td>\n",
              "      <td>...</td>\n",
              "      <td>...</td>\n",
              "      <td>...</td>\n",
              "      <td>...</td>\n",
              "      <td>...</td>\n",
              "      <td>...</td>\n",
              "      <td>...</td>\n",
              "      <td>...</td>\n",
              "      <td>...</td>\n",
              "      <td>...</td>\n",
              "      <td>...</td>\n",
              "      <td>...</td>\n",
              "      <td>...</td>\n",
              "      <td>...</td>\n",
              "    </tr>\n",
              "    <tr>\n",
              "      <th>12120</th>\n",
              "      <td>108</td>\n",
              "      <td>28</td>\n",
              "      <td>187</td>\n",
              "      <td>9</td>\n",
              "      <td>0.0</td>\n",
              "      <td>0</td>\n",
              "      <td>0</td>\n",
              "      <td>0</td>\n",
              "      <td>0.0</td>\n",
              "      <td>0</td>\n",
              "      <td>2</td>\n",
              "      <td>0</td>\n",
              "      <td>0</td>\n",
              "      <td>0.000000</td>\n",
              "      <td>0</td>\n",
              "      <td>0</td>\n",
              "      <td>0.137931</td>\n",
              "      <td>8</td>\n",
              "      <td>5</td>\n",
              "      <td>7</td>\n",
              "      <td>2</td>\n",
              "      <td>2</td>\n",
              "      <td>50</td>\n",
              "      <td>80</td>\n",
              "      <td>31</td>\n",
              "      <td>7</td>\n",
              "      <td>10</td>\n",
              "      <td>12</td>\n",
              "      <td>17</td>\n",
              "      <td>27</td>\n",
              "      <td>19</td>\n",
              "      <td>4.958333</td>\n",
              "      <td>114.694043</td>\n",
              "      <td>568.691296</td>\n",
              "      <td>0.038231</td>\n",
              "      <td>31.593961</td>\n",
              "      <td>2</td>\n",
              "      <td>2</td>\n",
              "      <td>66.666667</td>\n",
              "    </tr>\n",
              "    <tr>\n",
              "      <th>12121</th>\n",
              "      <td>188</td>\n",
              "      <td>8</td>\n",
              "      <td>191</td>\n",
              "      <td>9</td>\n",
              "      <td>0.0</td>\n",
              "      <td>0</td>\n",
              "      <td>0</td>\n",
              "      <td>0</td>\n",
              "      <td>0.0</td>\n",
              "      <td>0</td>\n",
              "      <td>1</td>\n",
              "      <td>0</td>\n",
              "      <td>0</td>\n",
              "      <td>0.250000</td>\n",
              "      <td>1</td>\n",
              "      <td>0</td>\n",
              "      <td>0.250000</td>\n",
              "      <td>1</td>\n",
              "      <td>3</td>\n",
              "      <td>4</td>\n",
              "      <td>1</td>\n",
              "      <td>0</td>\n",
              "      <td>3</td>\n",
              "      <td>4</td>\n",
              "      <td>1</td>\n",
              "      <td>3</td>\n",
              "      <td>4</td>\n",
              "      <td>3</td>\n",
              "      <td>3</td>\n",
              "      <td>7</td>\n",
              "      <td>6</td>\n",
              "      <td>1.500000</td>\n",
              "      <td>18.094738</td>\n",
              "      <td>27.142106</td>\n",
              "      <td>0.006032</td>\n",
              "      <td>1.507895</td>\n",
              "      <td>1</td>\n",
              "      <td>0</td>\n",
              "      <td>100.000000</td>\n",
              "    </tr>\n",
              "    <tr>\n",
              "      <th>12122</th>\n",
              "      <td>112</td>\n",
              "      <td>86</td>\n",
              "      <td>186</td>\n",
              "      <td>13</td>\n",
              "      <td>0.0</td>\n",
              "      <td>0</td>\n",
              "      <td>0</td>\n",
              "      <td>0</td>\n",
              "      <td>0.0</td>\n",
              "      <td>0</td>\n",
              "      <td>11</td>\n",
              "      <td>2</td>\n",
              "      <td>2</td>\n",
              "      <td>0.135135</td>\n",
              "      <td>5</td>\n",
              "      <td>0</td>\n",
              "      <td>0.145455</td>\n",
              "      <td>8</td>\n",
              "      <td>32</td>\n",
              "      <td>48</td>\n",
              "      <td>18</td>\n",
              "      <td>1</td>\n",
              "      <td>47</td>\n",
              "      <td>75</td>\n",
              "      <td>29</td>\n",
              "      <td>15</td>\n",
              "      <td>74</td>\n",
              "      <td>40</td>\n",
              "      <td>79</td>\n",
              "      <td>153</td>\n",
              "      <td>55</td>\n",
              "      <td>14.812500</td>\n",
              "      <td>884.548036</td>\n",
              "      <td>13102.367786</td>\n",
              "      <td>0.294849</td>\n",
              "      <td>727.909321</td>\n",
              "      <td>8</td>\n",
              "      <td>1</td>\n",
              "      <td>40.000000</td>\n",
              "    </tr>\n",
              "    <tr>\n",
              "      <th>12123</th>\n",
              "      <td>132</td>\n",
              "      <td>135</td>\n",
              "      <td>139</td>\n",
              "      <td>21</td>\n",
              "      <td>0.0</td>\n",
              "      <td>0</td>\n",
              "      <td>0</td>\n",
              "      <td>0</td>\n",
              "      <td>0.0</td>\n",
              "      <td>0</td>\n",
              "      <td>2</td>\n",
              "      <td>1</td>\n",
              "      <td>1</td>\n",
              "      <td>0.000000</td>\n",
              "      <td>0</td>\n",
              "      <td>0</td>\n",
              "      <td>0.000000</td>\n",
              "      <td>0</td>\n",
              "      <td>6</td>\n",
              "      <td>8</td>\n",
              "      <td>3</td>\n",
              "      <td>1</td>\n",
              "      <td>6</td>\n",
              "      <td>8</td>\n",
              "      <td>3</td>\n",
              "      <td>5</td>\n",
              "      <td>7</td>\n",
              "      <td>4</td>\n",
              "      <td>6</td>\n",
              "      <td>13</td>\n",
              "      <td>9</td>\n",
              "      <td>3.750000</td>\n",
              "      <td>41.209025</td>\n",
              "      <td>154.533844</td>\n",
              "      <td>0.013736</td>\n",
              "      <td>8.585214</td>\n",
              "      <td>2</td>\n",
              "      <td>1</td>\n",
              "      <td>66.666667</td>\n",
              "    </tr>\n",
              "    <tr>\n",
              "      <th>12124</th>\n",
              "      <td>163</td>\n",
              "      <td>95</td>\n",
              "      <td>185</td>\n",
              "      <td>17</td>\n",
              "      <td>0.0</td>\n",
              "      <td>0</td>\n",
              "      <td>0</td>\n",
              "      <td>0</td>\n",
              "      <td>0.0</td>\n",
              "      <td>0</td>\n",
              "      <td>4</td>\n",
              "      <td>1</td>\n",
              "      <td>1</td>\n",
              "      <td>0.187500</td>\n",
              "      <td>3</td>\n",
              "      <td>0</td>\n",
              "      <td>0.187500</td>\n",
              "      <td>3</td>\n",
              "      <td>13</td>\n",
              "      <td>23</td>\n",
              "      <td>8</td>\n",
              "      <td>1</td>\n",
              "      <td>13</td>\n",
              "      <td>23</td>\n",
              "      <td>8</td>\n",
              "      <td>8</td>\n",
              "      <td>25</td>\n",
              "      <td>20</td>\n",
              "      <td>29</td>\n",
              "      <td>54</td>\n",
              "      <td>28</td>\n",
              "      <td>5.800000</td>\n",
              "      <td>259.597166</td>\n",
              "      <td>1505.663562</td>\n",
              "      <td>0.086532</td>\n",
              "      <td>83.647976</td>\n",
              "      <td>4</td>\n",
              "      <td>1</td>\n",
              "      <td>50.000000</td>\n",
              "    </tr>\n",
              "  </tbody>\n",
              "</table>\n",
              "<p>12125 rows × 39 columns</p>\n",
              "</div>"
            ],
            "text/plain": [
              "       line  column  endline  endcolumn  ...        HTIME  CYCL  PARAMS   CYCL_DENS\n",
              "0         4      21      128          1  ...   195.092099     3       2   30.000000\n",
              "1        15      16       40          2  ...  1067.348389     9       3   37.500000\n",
              "2        42      36       65          2  ...     4.626971     1       4  100.000000\n",
              "3        67      27      110          2  ...     4.626971     1       4  100.000000\n",
              "4       112      35      125          2  ...   201.517949     3       3   30.000000\n",
              "...     ...     ...      ...        ...  ...          ...   ...     ...         ...\n",
              "12120   108      28      187          9  ...    31.593961     2       2   66.666667\n",
              "12121   188       8      191          9  ...     1.507895     1       0  100.000000\n",
              "12122   112      86      186         13  ...   727.909321     8       1   40.000000\n",
              "12123   132     135      139         21  ...     8.585214     2       1   66.666667\n",
              "12124   163      95      185         17  ...    83.647976     4       1   50.000000\n",
              "\n",
              "[12125 rows x 39 columns]"
            ]
          },
          "metadata": {
            "tags": []
          },
          "execution_count": 32
        }
      ]
    },
    {
      "cell_type": "code",
      "metadata": {
        "colab": {
          "base_uri": "https://localhost:8080/"
        },
        "id": "GqTHLyRtB-8p",
        "outputId": "92c35b92-c8b7-4b24-e9ae-8e98c121a913"
      },
      "source": [
        "target"
      ],
      "execution_count": 33,
      "outputs": [
        {
          "output_type": "execute_result",
          "data": {
            "text/plain": [
              "0        1\n",
              "1        1\n",
              "2        1\n",
              "3        0\n",
              "4        0\n",
              "        ..\n",
              "12120    0\n",
              "12121    0\n",
              "12122    0\n",
              "12123    0\n",
              "12124    0\n",
              "Name: Vuln, Length: 12125, dtype: int64"
            ]
          },
          "metadata": {
            "tags": []
          },
          "execution_count": 33
        }
      ]
    },
    {
      "cell_type": "code",
      "metadata": {
        "id": "flHkaWuPNxz4"
      },
      "source": [
        "from sklearn.preprocessing import MinMaxScaler "
      ],
      "execution_count": 34,
      "outputs": []
    },
    {
      "cell_type": "code",
      "metadata": {
        "id": "jmL_xQZQNx6z"
      },
      "source": [
        "scaling = MinMaxScaler()"
      ],
      "execution_count": 35,
      "outputs": []
    },
    {
      "cell_type": "code",
      "metadata": {
        "colab": {
          "base_uri": "https://localhost:8080/"
        },
        "id": "4dxT3uHtNyBg",
        "outputId": "4ee23f11-6de9-4dd2-e3d9-d149e25cbf7a"
      },
      "source": [
        "inputs_n = scaling.fit_transform(inputs)\r\n",
        "inputs_n"
      ],
      "execution_count": 36,
      "outputs": [
        {
          "output_type": "execute_result",
          "data": {
            "text/plain": [
              "array([[2.84198560e-04, 6.45696891e-04, 1.19969771e-02, ...,\n",
              "        1.66666667e-02, 1.53846154e-01, 3.33333333e-02],\n",
              "       [1.32625995e-03, 4.91959536e-04, 3.68411109e-03, ...,\n",
              "        6.66666667e-02, 2.30769231e-01, 4.16666667e-02],\n",
              "       [3.88404699e-03, 1.10690896e-03, 6.04572076e-03, ...,\n",
              "        0.00000000e+00, 3.07692308e-01, 1.11111111e-01],\n",
              "       ...,\n",
              "       [1.05153467e-02, 2.64428251e-03, 1.74759116e-02, ...,\n",
              "        5.83333333e-02, 7.69230769e-02, 4.44444444e-02],\n",
              "       [1.24100038e-02, 4.15090859e-03, 1.30360854e-02, ...,\n",
              "        8.33333333e-03, 7.69230769e-02, 7.40740741e-02],\n",
              "       [1.53467222e-02, 2.92100975e-03, 1.73814472e-02, ...,\n",
              "        2.50000000e-02, 7.69230769e-02, 5.55555556e-02]])"
            ]
          },
          "metadata": {
            "tags": []
          },
          "execution_count": 36
        }
      ]
    },
    {
      "cell_type": "code",
      "metadata": {
        "id": "HaMo0JL9hwY_"
      },
      "source": [
        "from sklearn.model_selection import train_test_split\r\n",
        "X_train, X_test, Y_train, Y_test = train_test_split(inputs_n,target,test_size=0.3)"
      ],
      "execution_count": 37,
      "outputs": []
    },
    {
      "cell_type": "code",
      "metadata": {
        "colab": {
          "base_uri": "https://localhost:8080/"
        },
        "id": "TGG0BlMFhwlj",
        "outputId": "ab44c2cb-c762-498e-f9b5-364b528b57ce"
      },
      "source": [
        "model.fit(X_train,Y_train)"
      ],
      "execution_count": 42,
      "outputs": [
        {
          "output_type": "execute_result",
          "data": {
            "text/plain": [
              "DecisionTreeClassifier(ccp_alpha=0.0, class_weight=None, criterion='gini',\n",
              "                       max_depth=None, max_features=None, max_leaf_nodes=None,\n",
              "                       min_impurity_decrease=0.0, min_impurity_split=None,\n",
              "                       min_samples_leaf=1, min_samples_split=2,\n",
              "                       min_weight_fraction_leaf=0.0, presort='deprecated',\n",
              "                       random_state=None, splitter='best')"
            ]
          },
          "metadata": {
            "tags": []
          },
          "execution_count": 42
        }
      ]
    },
    {
      "cell_type": "code",
      "metadata": {
        "colab": {
          "base_uri": "https://localhost:8080/"
        },
        "id": "YkkLcChGl1QH",
        "outputId": "5ed55acb-da52-447c-bb9e-9aa1bca9b6ec"
      },
      "source": [
        "model.score(X_train,Y_train)"
      ],
      "execution_count": 43,
      "outputs": [
        {
          "output_type": "execute_result",
          "data": {
            "text/plain": [
              "0.9988217273477082"
            ]
          },
          "metadata": {
            "tags": []
          },
          "execution_count": 43
        }
      ]
    },
    {
      "cell_type": "code",
      "metadata": {
        "colab": {
          "base_uri": "https://localhost:8080/"
        },
        "id": "Q4gYugODl1Sg",
        "outputId": "f684b723-11f1-4d9b-88b1-35bd02a935e3"
      },
      "source": [
        "model.score(X_test,Y_test)"
      ],
      "execution_count": 44,
      "outputs": [
        {
          "output_type": "execute_result",
          "data": {
            "text/plain": [
              "0.936778449697636"
            ]
          },
          "metadata": {
            "tags": []
          },
          "execution_count": 44
        }
      ]
    },
    {
      "cell_type": "code",
      "metadata": {
        "id": "_GJE3BN9mz24"
      },
      "source": [
        "Y_predicted = model.predict(X_test)"
      ],
      "execution_count": 48,
      "outputs": []
    },
    {
      "cell_type": "code",
      "metadata": {
        "id": "gghxvIDcl9_P"
      },
      "source": [
        "from sklearn.metrics import confusion_matrix , classification_report"
      ],
      "execution_count": 56,
      "outputs": []
    },
    {
      "cell_type": "code",
      "metadata": {
        "colab": {
          "base_uri": "https://localhost:8080/"
        },
        "id": "CBnbHLgAm63p",
        "outputId": "0eb0c238-b9ad-4ff8-ee04-ab27a6881485"
      },
      "source": [
        "cm = confusion_matrix(Y_test, Y_predicted)\r\n",
        "cm"
      ],
      "execution_count": 57,
      "outputs": [
        {
          "output_type": "execute_result",
          "data": {
            "text/plain": [
              "array([[3053,  111],\n",
              "       [ 119,  355]])"
            ]
          },
          "metadata": {
            "tags": []
          },
          "execution_count": 57
        }
      ]
    },
    {
      "cell_type": "code",
      "metadata": {
        "colab": {
          "base_uri": "https://localhost:8080/",
          "height": 459
        },
        "id": "0R7K_em0m68l",
        "outputId": "9f90c9df-913f-46fb-c47e-1b77cd8e2e13"
      },
      "source": [
        "import seaborn as sn\r\n",
        "%matplotlib inline\r\n",
        "import matplotlib.pyplot as plt\r\n",
        "plt.figure(figsize = (10,7))\r\n",
        "sn.heatmap(cm, annot=True)\r\n",
        "plt.xlabel('Predicted')\r\n",
        "plt.ylabel('Truth')"
      ],
      "execution_count": 58,
      "outputs": [
        {
          "output_type": "execute_result",
          "data": {
            "text/plain": [
              "Text(69.0, 0.5, 'Truth')"
            ]
          },
          "metadata": {
            "tags": []
          },
          "execution_count": 58
        },
        {
          "output_type": "display_data",
          "data": {
            "image/png": "[encoded data removed]",
            "text/plain": [
              "<Figure size 720x504 with 2 Axes>"
            ]
          },
          "metadata": {
            "tags": [],
            "needs_background": "light"
          }
        }
      ]
    },
    {
      "cell_type": "code",
      "metadata": {
        "colab": {
          "base_uri": "https://localhost:8080/"
        },
        "id": "PJrpIUWAl-BS",
        "outputId": "cdfa2637-836a-47c2-b541-ab43e1dd5ff8"
      },
      "source": [
        "print(classification_report(Y_test, Y_predicted))"
      ],
      "execution_count": 59,
      "outputs": [
        {
          "output_type": "stream",
          "text": [
            "              precision    recall  f1-score   support\n",
            "\n",
            "           0       0.96      0.96      0.96      3164\n",
            "           1       0.76      0.75      0.76       474\n",
            "\n",
            "    accuracy                           0.94      3638\n",
            "   macro avg       0.86      0.86      0.86      3638\n",
            "weighted avg       0.94      0.94      0.94      3638\n",
            "\n"
          ],
          "name": "stdout"
        }
      ]
    },
    {
      "cell_type": "markdown",
      "metadata": {
        "id": "8yLbS6-X1ho-"
      },
      "source": [
        "Ignoring Line, column, endline, endcolumn\r\n"
      ]
    },
    {
      "cell_type": "code",
      "metadata": {
        "id": "N5FqnFug0wXu"
      },
      "source": [
        "inputs = df.drop(['name','longname','path','full_repo_path','line','column','endline','endcolumn','Vuln'],axis='columns')\r\n",
        "target = df['Vuln']"
      ],
      "execution_count": 72,
      "outputs": []
    },
    {
      "cell_type": "code",
      "metadata": {
        "colab": {
          "base_uri": "https://localhost:8080/",
          "height": 439
        },
        "id": "pdyjGEqq1BLW",
        "outputId": "997f5366-57e1-45cc-f93b-c31f3ee4c912"
      },
      "source": [
        "inputs"
      ],
      "execution_count": 73,
      "outputs": [
        {
          "output_type": "execute_result",
          "data": {
            "text/html": [
              "<div>\n",
              "<style scoped>\n",
              "    .dataframe tbody tr th:only-of-type {\n",
              "        vertical-align: middle;\n",
              "    }\n",
              "\n",
              "    .dataframe tbody tr th {\n",
              "        vertical-align: top;\n",
              "    }\n",
              "\n",
              "    .dataframe thead th {\n",
              "        text-align: right;\n",
              "    }\n",
              "</style>\n",
              "<table border=\"1\" class=\"dataframe\">\n",
              "  <thead>\n",
              "    <tr style=\"text-align: right;\">\n",
              "      <th></th>\n",
              "      <th>CC</th>\n",
              "      <th>CCL</th>\n",
              "      <th>CCO</th>\n",
              "      <th>CI</th>\n",
              "      <th>CLC</th>\n",
              "      <th>CLLC</th>\n",
              "      <th>McCC</th>\n",
              "      <th>NL</th>\n",
              "      <th>NLE</th>\n",
              "      <th>CD</th>\n",
              "      <th>CLOC</th>\n",
              "      <th>DLOC</th>\n",
              "      <th>TCD</th>\n",
              "      <th>TCLOC</th>\n",
              "      <th>LLOC</th>\n",
              "      <th>LOC</th>\n",
              "      <th>NOS</th>\n",
              "      <th>NUMPAR</th>\n",
              "      <th>TLLOC</th>\n",
              "      <th>TLOC</th>\n",
              "      <th>TNOS</th>\n",
              "      <th>HOR_D</th>\n",
              "      <th>HOR_T</th>\n",
              "      <th>HON_D</th>\n",
              "      <th>HON_T</th>\n",
              "      <th>HLEN</th>\n",
              "      <th>HVOC</th>\n",
              "      <th>HDIFF</th>\n",
              "      <th>HVOL</th>\n",
              "      <th>HEFF</th>\n",
              "      <th>HBUGS</th>\n",
              "      <th>HTIME</th>\n",
              "      <th>CYCL</th>\n",
              "      <th>PARAMS</th>\n",
              "      <th>CYCL_DENS</th>\n",
              "    </tr>\n",
              "  </thead>\n",
              "  <tbody>\n",
              "    <tr>\n",
              "      <th>0</th>\n",
              "      <td>0.0</td>\n",
              "      <td>0</td>\n",
              "      <td>0</td>\n",
              "      <td>0</td>\n",
              "      <td>0.0</td>\n",
              "      <td>0</td>\n",
              "      <td>3</td>\n",
              "      <td>1</td>\n",
              "      <td>1</td>\n",
              "      <td>0.000000</td>\n",
              "      <td>0</td>\n",
              "      <td>0</td>\n",
              "      <td>0.008621</td>\n",
              "      <td>1</td>\n",
              "      <td>18</td>\n",
              "      <td>25</td>\n",
              "      <td>10</td>\n",
              "      <td>2</td>\n",
              "      <td>115</td>\n",
              "      <td>125</td>\n",
              "      <td>83</td>\n",
              "      <td>7</td>\n",
              "      <td>37</td>\n",
              "      <td>14</td>\n",
              "      <td>41</td>\n",
              "      <td>78</td>\n",
              "      <td>21</td>\n",
              "      <td>10.250000</td>\n",
              "      <td>342.600759</td>\n",
              "      <td>3511.657780</td>\n",
              "      <td>0.114200</td>\n",
              "      <td>195.092099</td>\n",
              "      <td>3</td>\n",
              "      <td>2</td>\n",
              "      <td>30.000000</td>\n",
              "    </tr>\n",
              "    <tr>\n",
              "      <th>1</th>\n",
              "      <td>0.0</td>\n",
              "      <td>0</td>\n",
              "      <td>0</td>\n",
              "      <td>0</td>\n",
              "      <td>0.0</td>\n",
              "      <td>0</td>\n",
              "      <td>11</td>\n",
              "      <td>3</td>\n",
              "      <td>3</td>\n",
              "      <td>0.041667</td>\n",
              "      <td>1</td>\n",
              "      <td>0</td>\n",
              "      <td>0.041667</td>\n",
              "      <td>1</td>\n",
              "      <td>23</td>\n",
              "      <td>26</td>\n",
              "      <td>22</td>\n",
              "      <td>3</td>\n",
              "      <td>23</td>\n",
              "      <td>26</td>\n",
              "      <td>22</td>\n",
              "      <td>16</td>\n",
              "      <td>74</td>\n",
              "      <td>32</td>\n",
              "      <td>86</td>\n",
              "      <td>160</td>\n",
              "      <td>48</td>\n",
              "      <td>21.500000</td>\n",
              "      <td>893.594000</td>\n",
              "      <td>19212.271002</td>\n",
              "      <td>0.297865</td>\n",
              "      <td>1067.348389</td>\n",
              "      <td>9</td>\n",
              "      <td>3</td>\n",
              "      <td>37.500000</td>\n",
              "    </tr>\n",
              "    <tr>\n",
              "      <th>2</th>\n",
              "      <td>0.0</td>\n",
              "      <td>0</td>\n",
              "      <td>0</td>\n",
              "      <td>0</td>\n",
              "      <td>0.0</td>\n",
              "      <td>0</td>\n",
              "      <td>1</td>\n",
              "      <td>0</td>\n",
              "      <td>0</td>\n",
              "      <td>0.000000</td>\n",
              "      <td>0</td>\n",
              "      <td>0</td>\n",
              "      <td>0.000000</td>\n",
              "      <td>0</td>\n",
              "      <td>4</td>\n",
              "      <td>4</td>\n",
              "      <td>1</td>\n",
              "      <td>4</td>\n",
              "      <td>24</td>\n",
              "      <td>24</td>\n",
              "      <td>15</td>\n",
              "      <td>3</td>\n",
              "      <td>4</td>\n",
              "      <td>7</td>\n",
              "      <td>9</td>\n",
              "      <td>13</td>\n",
              "      <td>10</td>\n",
              "      <td>1.928571</td>\n",
              "      <td>43.185065</td>\n",
              "      <td>83.285483</td>\n",
              "      <td>0.014395</td>\n",
              "      <td>4.626971</td>\n",
              "      <td>1</td>\n",
              "      <td>4</td>\n",
              "      <td>100.000000</td>\n",
              "    </tr>\n",
              "    <tr>\n",
              "      <th>3</th>\n",
              "      <td>0.0</td>\n",
              "      <td>0</td>\n",
              "      <td>0</td>\n",
              "      <td>0</td>\n",
              "      <td>0.0</td>\n",
              "      <td>0</td>\n",
              "      <td>1</td>\n",
              "      <td>0</td>\n",
              "      <td>0</td>\n",
              "      <td>0.000000</td>\n",
              "      <td>0</td>\n",
              "      <td>0</td>\n",
              "      <td>0.000000</td>\n",
              "      <td>0</td>\n",
              "      <td>4</td>\n",
              "      <td>4</td>\n",
              "      <td>1</td>\n",
              "      <td>4</td>\n",
              "      <td>44</td>\n",
              "      <td>44</td>\n",
              "      <td>27</td>\n",
              "      <td>3</td>\n",
              "      <td>4</td>\n",
              "      <td>7</td>\n",
              "      <td>9</td>\n",
              "      <td>13</td>\n",
              "      <td>10</td>\n",
              "      <td>1.928571</td>\n",
              "      <td>43.185065</td>\n",
              "      <td>83.285483</td>\n",
              "      <td>0.014395</td>\n",
              "      <td>4.626971</td>\n",
              "      <td>1</td>\n",
              "      <td>4</td>\n",
              "      <td>100.000000</td>\n",
              "    </tr>\n",
              "    <tr>\n",
              "      <th>4</th>\n",
              "      <td>0.0</td>\n",
              "      <td>0</td>\n",
              "      <td>0</td>\n",
              "      <td>0</td>\n",
              "      <td>0.0</td>\n",
              "      <td>0</td>\n",
              "      <td>3</td>\n",
              "      <td>2</td>\n",
              "      <td>2</td>\n",
              "      <td>0.000000</td>\n",
              "      <td>0</td>\n",
              "      <td>0</td>\n",
              "      <td>0.000000</td>\n",
              "      <td>0</td>\n",
              "      <td>14</td>\n",
              "      <td>14</td>\n",
              "      <td>9</td>\n",
              "      <td>3</td>\n",
              "      <td>14</td>\n",
              "      <td>14</td>\n",
              "      <td>9</td>\n",
              "      <td>10</td>\n",
              "      <td>33</td>\n",
              "      <td>27</td>\n",
              "      <td>47</td>\n",
              "      <td>80</td>\n",
              "      <td>37</td>\n",
              "      <td>8.703704</td>\n",
              "      <td>416.756269</td>\n",
              "      <td>3627.323084</td>\n",
              "      <td>0.138919</td>\n",
              "      <td>201.517949</td>\n",
              "      <td>3</td>\n",
              "      <td>3</td>\n",
              "      <td>30.000000</td>\n",
              "    </tr>\n",
              "    <tr>\n",
              "      <th>...</th>\n",
              "      <td>...</td>\n",
              "      <td>...</td>\n",
              "      <td>...</td>\n",
              "      <td>...</td>\n",
              "      <td>...</td>\n",
              "      <td>...</td>\n",
              "      <td>...</td>\n",
              "      <td>...</td>\n",
              "      <td>...</td>\n",
              "      <td>...</td>\n",
              "      <td>...</td>\n",
              "      <td>...</td>\n",
              "      <td>...</td>\n",
              "      <td>...</td>\n",
              "      <td>...</td>\n",
              "      <td>...</td>\n",
              "      <td>...</td>\n",
              "      <td>...</td>\n",
              "      <td>...</td>\n",
              "      <td>...</td>\n",
              "      <td>...</td>\n",
              "      <td>...</td>\n",
              "      <td>...</td>\n",
              "      <td>...</td>\n",
              "      <td>...</td>\n",
              "      <td>...</td>\n",
              "      <td>...</td>\n",
              "      <td>...</td>\n",
              "      <td>...</td>\n",
              "      <td>...</td>\n",
              "      <td>...</td>\n",
              "      <td>...</td>\n",
              "      <td>...</td>\n",
              "      <td>...</td>\n",
              "      <td>...</td>\n",
              "    </tr>\n",
              "    <tr>\n",
              "      <th>12120</th>\n",
              "      <td>0.0</td>\n",
              "      <td>0</td>\n",
              "      <td>0</td>\n",
              "      <td>0</td>\n",
              "      <td>0.0</td>\n",
              "      <td>0</td>\n",
              "      <td>2</td>\n",
              "      <td>0</td>\n",
              "      <td>0</td>\n",
              "      <td>0.000000</td>\n",
              "      <td>0</td>\n",
              "      <td>0</td>\n",
              "      <td>0.137931</td>\n",
              "      <td>8</td>\n",
              "      <td>5</td>\n",
              "      <td>7</td>\n",
              "      <td>2</td>\n",
              "      <td>2</td>\n",
              "      <td>50</td>\n",
              "      <td>80</td>\n",
              "      <td>31</td>\n",
              "      <td>7</td>\n",
              "      <td>10</td>\n",
              "      <td>12</td>\n",
              "      <td>17</td>\n",
              "      <td>27</td>\n",
              "      <td>19</td>\n",
              "      <td>4.958333</td>\n",
              "      <td>114.694043</td>\n",
              "      <td>568.691296</td>\n",
              "      <td>0.038231</td>\n",
              "      <td>31.593961</td>\n",
              "      <td>2</td>\n",
              "      <td>2</td>\n",
              "      <td>66.666667</td>\n",
              "    </tr>\n",
              "    <tr>\n",
              "      <th>12121</th>\n",
              "      <td>0.0</td>\n",
              "      <td>0</td>\n",
              "      <td>0</td>\n",
              "      <td>0</td>\n",
              "      <td>0.0</td>\n",
              "      <td>0</td>\n",
              "      <td>1</td>\n",
              "      <td>0</td>\n",
              "      <td>0</td>\n",
              "      <td>0.250000</td>\n",
              "      <td>1</td>\n",
              "      <td>0</td>\n",
              "      <td>0.250000</td>\n",
              "      <td>1</td>\n",
              "      <td>3</td>\n",
              "      <td>4</td>\n",
              "      <td>1</td>\n",
              "      <td>0</td>\n",
              "      <td>3</td>\n",
              "      <td>4</td>\n",
              "      <td>1</td>\n",
              "      <td>3</td>\n",
              "      <td>4</td>\n",
              "      <td>3</td>\n",
              "      <td>3</td>\n",
              "      <td>7</td>\n",
              "      <td>6</td>\n",
              "      <td>1.500000</td>\n",
              "      <td>18.094738</td>\n",
              "      <td>27.142106</td>\n",
              "      <td>0.006032</td>\n",
              "      <td>1.507895</td>\n",
              "      <td>1</td>\n",
              "      <td>0</td>\n",
              "      <td>100.000000</td>\n",
              "    </tr>\n",
              "    <tr>\n",
              "      <th>12122</th>\n",
              "      <td>0.0</td>\n",
              "      <td>0</td>\n",
              "      <td>0</td>\n",
              "      <td>0</td>\n",
              "      <td>0.0</td>\n",
              "      <td>0</td>\n",
              "      <td>11</td>\n",
              "      <td>2</td>\n",
              "      <td>2</td>\n",
              "      <td>0.135135</td>\n",
              "      <td>5</td>\n",
              "      <td>0</td>\n",
              "      <td>0.145455</td>\n",
              "      <td>8</td>\n",
              "      <td>32</td>\n",
              "      <td>48</td>\n",
              "      <td>18</td>\n",
              "      <td>1</td>\n",
              "      <td>47</td>\n",
              "      <td>75</td>\n",
              "      <td>29</td>\n",
              "      <td>15</td>\n",
              "      <td>74</td>\n",
              "      <td>40</td>\n",
              "      <td>79</td>\n",
              "      <td>153</td>\n",
              "      <td>55</td>\n",
              "      <td>14.812500</td>\n",
              "      <td>884.548036</td>\n",
              "      <td>13102.367786</td>\n",
              "      <td>0.294849</td>\n",
              "      <td>727.909321</td>\n",
              "      <td>8</td>\n",
              "      <td>1</td>\n",
              "      <td>40.000000</td>\n",
              "    </tr>\n",
              "    <tr>\n",
              "      <th>12123</th>\n",
              "      <td>0.0</td>\n",
              "      <td>0</td>\n",
              "      <td>0</td>\n",
              "      <td>0</td>\n",
              "      <td>0.0</td>\n",
              "      <td>0</td>\n",
              "      <td>2</td>\n",
              "      <td>1</td>\n",
              "      <td>1</td>\n",
              "      <td>0.000000</td>\n",
              "      <td>0</td>\n",
              "      <td>0</td>\n",
              "      <td>0.000000</td>\n",
              "      <td>0</td>\n",
              "      <td>6</td>\n",
              "      <td>8</td>\n",
              "      <td>3</td>\n",
              "      <td>1</td>\n",
              "      <td>6</td>\n",
              "      <td>8</td>\n",
              "      <td>3</td>\n",
              "      <td>5</td>\n",
              "      <td>7</td>\n",
              "      <td>4</td>\n",
              "      <td>6</td>\n",
              "      <td>13</td>\n",
              "      <td>9</td>\n",
              "      <td>3.750000</td>\n",
              "      <td>41.209025</td>\n",
              "      <td>154.533844</td>\n",
              "      <td>0.013736</td>\n",
              "      <td>8.585214</td>\n",
              "      <td>2</td>\n",
              "      <td>1</td>\n",
              "      <td>66.666667</td>\n",
              "    </tr>\n",
              "    <tr>\n",
              "      <th>12124</th>\n",
              "      <td>0.0</td>\n",
              "      <td>0</td>\n",
              "      <td>0</td>\n",
              "      <td>0</td>\n",
              "      <td>0.0</td>\n",
              "      <td>0</td>\n",
              "      <td>4</td>\n",
              "      <td>1</td>\n",
              "      <td>1</td>\n",
              "      <td>0.187500</td>\n",
              "      <td>3</td>\n",
              "      <td>0</td>\n",
              "      <td>0.187500</td>\n",
              "      <td>3</td>\n",
              "      <td>13</td>\n",
              "      <td>23</td>\n",
              "      <td>8</td>\n",
              "      <td>1</td>\n",
              "      <td>13</td>\n",
              "      <td>23</td>\n",
              "      <td>8</td>\n",
              "      <td>8</td>\n",
              "      <td>25</td>\n",
              "      <td>20</td>\n",
              "      <td>29</td>\n",
              "      <td>54</td>\n",
              "      <td>28</td>\n",
              "      <td>5.800000</td>\n",
              "      <td>259.597166</td>\n",
              "      <td>1505.663562</td>\n",
              "      <td>0.086532</td>\n",
              "      <td>83.647976</td>\n",
              "      <td>4</td>\n",
              "      <td>1</td>\n",
              "      <td>50.000000</td>\n",
              "    </tr>\n",
              "  </tbody>\n",
              "</table>\n",
              "<p>12125 rows × 35 columns</p>\n",
              "</div>"
            ],
            "text/plain": [
              "        CC  CCL  CCO  CI  CLC  ...     HBUGS        HTIME  CYCL  PARAMS   CYCL_DENS\n",
              "0      0.0    0    0   0  0.0  ...  0.114200   195.092099     3       2   30.000000\n",
              "1      0.0    0    0   0  0.0  ...  0.297865  1067.348389     9       3   37.500000\n",
              "2      0.0    0    0   0  0.0  ...  0.014395     4.626971     1       4  100.000000\n",
              "3      0.0    0    0   0  0.0  ...  0.014395     4.626971     1       4  100.000000\n",
              "4      0.0    0    0   0  0.0  ...  0.138919   201.517949     3       3   30.000000\n",
              "...    ...  ...  ...  ..  ...  ...       ...          ...   ...     ...         ...\n",
              "12120  0.0    0    0   0  0.0  ...  0.038231    31.593961     2       2   66.666667\n",
              "12121  0.0    0    0   0  0.0  ...  0.006032     1.507895     1       0  100.000000\n",
              "12122  0.0    0    0   0  0.0  ...  0.294849   727.909321     8       1   40.000000\n",
              "12123  0.0    0    0   0  0.0  ...  0.013736     8.585214     2       1   66.666667\n",
              "12124  0.0    0    0   0  0.0  ...  0.086532    83.647976     4       1   50.000000\n",
              "\n",
              "[12125 rows x 35 columns]"
            ]
          },
          "metadata": {
            "tags": []
          },
          "execution_count": 73
        }
      ]
    },
    {
      "cell_type": "code",
      "metadata": {
        "colab": {
          "base_uri": "https://localhost:8080/"
        },
        "id": "OOQ-A1v01BNj",
        "outputId": "3f5c2c67-9c08-46a3-9a38-e38079052bb9"
      },
      "source": [
        "target"
      ],
      "execution_count": 74,
      "outputs": [
        {
          "output_type": "execute_result",
          "data": {
            "text/plain": [
              "0        1\n",
              "1        1\n",
              "2        1\n",
              "3        0\n",
              "4        0\n",
              "        ..\n",
              "12120    0\n",
              "12121    0\n",
              "12122    0\n",
              "12123    0\n",
              "12124    0\n",
              "Name: Vuln, Length: 12125, dtype: int64"
            ]
          },
          "metadata": {
            "tags": []
          },
          "execution_count": 74
        }
      ]
    },
    {
      "cell_type": "code",
      "metadata": {
        "id": "fgstlSbn1BQu"
      },
      "source": [
        "from sklearn.preprocessing import MinMaxScaler "
      ],
      "execution_count": 75,
      "outputs": []
    },
    {
      "cell_type": "code",
      "metadata": {
        "id": "uKjoB3cF1BS8"
      },
      "source": [
        "scaling = MinMaxScaler()"
      ],
      "execution_count": 76,
      "outputs": []
    },
    {
      "cell_type": "code",
      "metadata": {
        "colab": {
          "base_uri": "https://localhost:8080/"
        },
        "id": "O805FsKh1LGB",
        "outputId": "c3c02f1b-1506-4f39-f530-4819b0f20022"
      },
      "source": [
        "inputs_n = scaling.fit_transform(inputs)\r\n",
        "inputs_n"
      ],
      "execution_count": 77,
      "outputs": [
        {
          "output_type": "execute_result",
          "data": {
            "text/plain": [
              "array([[0.        , 0.        , 0.        , ..., 0.01666667, 0.15384615,\n",
              "        0.03333333],\n",
              "       [0.        , 0.        , 0.        , ..., 0.06666667, 0.23076923,\n",
              "        0.04166667],\n",
              "       [0.        , 0.        , 0.        , ..., 0.        , 0.30769231,\n",
              "        0.11111111],\n",
              "       ...,\n",
              "       [0.        , 0.        , 0.        , ..., 0.05833333, 0.07692308,\n",
              "        0.04444444],\n",
              "       [0.        , 0.        , 0.        , ..., 0.00833333, 0.07692308,\n",
              "        0.07407407],\n",
              "       [0.        , 0.        , 0.        , ..., 0.025     , 0.07692308,\n",
              "        0.05555556]])"
            ]
          },
          "metadata": {
            "tags": []
          },
          "execution_count": 77
        }
      ]
    },
    {
      "cell_type": "code",
      "metadata": {
        "id": "cShm_-wR1LDT"
      },
      "source": [
        "from sklearn.model_selection import train_test_split\r\n",
        "X_train, X_test, Y_train, Y_test = train_test_split(inputs_n,target,test_size=0.3)"
      ],
      "execution_count": 78,
      "outputs": []
    },
    {
      "cell_type": "code",
      "metadata": {
        "colab": {
          "base_uri": "https://localhost:8080/"
        },
        "id": "rV90jpCW1LBM",
        "outputId": "daee3fa5-5aec-472b-87e0-d60bfa7d6674"
      },
      "source": [
        "model.fit(X_train,Y_train)"
      ],
      "execution_count": 79,
      "outputs": [
        {
          "output_type": "execute_result",
          "data": {
            "text/plain": [
              "DecisionTreeClassifier(ccp_alpha=0.0, class_weight=None, criterion='gini',\n",
              "                       max_depth=None, max_features=None, max_leaf_nodes=None,\n",
              "                       min_impurity_decrease=0.0, min_impurity_split=None,\n",
              "                       min_samples_leaf=1, min_samples_split=2,\n",
              "                       min_weight_fraction_leaf=0.0, presort='deprecated',\n",
              "                       random_state=None, splitter='best')"
            ]
          },
          "metadata": {
            "tags": []
          },
          "execution_count": 79
        }
      ]
    },
    {
      "cell_type": "code",
      "metadata": {
        "colab": {
          "base_uri": "https://localhost:8080/"
        },
        "id": "_hFe_3Ot1K_U",
        "outputId": "7b8b017e-6f0f-4f4e-963f-09595b907104"
      },
      "source": [
        "model.score(X_train,Y_train)"
      ],
      "execution_count": 80,
      "outputs": [
        {
          "output_type": "execute_result",
          "data": {
            "text/plain": [
              "0.9872746553552492"
            ]
          },
          "metadata": {
            "tags": []
          },
          "execution_count": 80
        }
      ]
    },
    {
      "cell_type": "code",
      "metadata": {
        "colab": {
          "base_uri": "https://localhost:8080/"
        },
        "id": "S6mANc_51K7A",
        "outputId": "dacabaf7-ba2b-4cfb-dddf-0c2fb516bdfd"
      },
      "source": [
        "model.score(X_test,Y_test)"
      ],
      "execution_count": 81,
      "outputs": [
        {
          "output_type": "execute_result",
          "data": {
            "text/plain": [
              "0.9246838922484881"
            ]
          },
          "metadata": {
            "tags": []
          },
          "execution_count": 81
        }
      ]
    },
    {
      "cell_type": "code",
      "metadata": {
        "id": "ULJZucit16fR"
      },
      "source": [
        "Y_predicted = model.predict(X_test)"
      ],
      "execution_count": 82,
      "outputs": []
    },
    {
      "cell_type": "code",
      "metadata": {
        "id": "YSCxCHh_1-O1"
      },
      "source": [
        "from sklearn.metrics import confusion_matrix , classification_report"
      ],
      "execution_count": 83,
      "outputs": []
    },
    {
      "cell_type": "code",
      "metadata": {
        "colab": {
          "base_uri": "https://localhost:8080/"
        },
        "id": "8skOTVqm1-NL",
        "outputId": "1201299b-00c8-4d06-a983-dcd2633b1366"
      },
      "source": [
        "cm = confusion_matrix(Y_test, Y_predicted)\r\n",
        "cm"
      ],
      "execution_count": 84,
      "outputs": [
        {
          "output_type": "execute_result",
          "data": {
            "text/plain": [
              "array([[3068,  146],\n",
              "       [ 128,  296]])"
            ]
          },
          "metadata": {
            "tags": []
          },
          "execution_count": 84
        }
      ]
    },
    {
      "cell_type": "code",
      "metadata": {
        "colab": {
          "base_uri": "https://localhost:8080/",
          "height": 459
        },
        "id": "R-YXVkjX16dS",
        "outputId": "533a84b5-ed25-4553-fd75-65dfb5aa3feb"
      },
      "source": [
        "import seaborn as sn\r\n",
        "%matplotlib inline\r\n",
        "import matplotlib.pyplot as plt\r\n",
        "plt.figure(figsize = (10,7))\r\n",
        "sn.heatmap(cm, annot=True)\r\n",
        "plt.xlabel('Predicted')\r\n",
        "plt.ylabel('Truth')"
      ],
      "execution_count": 85,
      "outputs": [
        {
          "output_type": "execute_result",
          "data": {
            "text/plain": [
              "Text(69.0, 0.5, 'Truth')"
            ]
          },
          "metadata": {
            "tags": []
          },
          "execution_count": 85
        },
        {
          "output_type": "display_data",
          "data": {
            "image/png": "[encoded data removed]",
            "text/plain": [
              "<Figure size 720x504 with 2 Axes>"
            ]
          },
          "metadata": {
            "tags": [],
            "needs_background": "light"
          }
        }
      ]
    },
    {
      "cell_type": "code",
      "metadata": {
        "colab": {
          "base_uri": "https://localhost:8080/"
        },
        "id": "5BLMVu_q1K5F",
        "outputId": "c2c054f9-d3c7-4115-8b04-043734dfa34c"
      },
      "source": [
        "print(classification_report(Y_test, Y_predicted))"
      ],
      "execution_count": 86,
      "outputs": [
        {
          "output_type": "stream",
          "text": [
            "              precision    recall  f1-score   support\n",
            "\n",
            "           0       0.96      0.95      0.96      3214\n",
            "           1       0.67      0.70      0.68       424\n",
            "\n",
            "    accuracy                           0.92      3638\n",
            "   macro avg       0.81      0.83      0.82      3638\n",
            "weighted avg       0.93      0.92      0.93      3638\n",
            "\n"
          ],
          "name": "stdout"
        }
      ]
    }
  ]
}