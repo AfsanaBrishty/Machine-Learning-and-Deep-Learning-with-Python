{
  "nbformat": 4,
  "nbformat_minor": 0,
  "metadata": {
    "colab": {
      "name": "Logistic Regression (Binary Classification).ipynb",
      "provenance": [],
      "collapsed_sections": [],
      "authorship_tag": "ABX9TyNIVNtJxWcuoDEQb5FFPjpw",
      "include_colab_link": true
    },
    "kernelspec": {
      "name": "python3",
      "display_name": "Python 3"
    }
  },
  "cells": [
    {
      "cell_type": "markdown",
      "metadata": {
        "id": "view-in-github",
        "colab_type": "text"
      },
      "source": [
        "<a href=\"https://colab.research.google.com/github/AfsanaBrishty/Machine-Learning-and-Deep-Learning-with-Python/blob/main/Logistic_Regression_(Binary_Classification).ipynb\" target=\"_parent\"><img src=\"https://colab.research.google.com/assets/colab-badge.svg\" alt=\"Open In Colab\"/></a>"
      ]
    },
    {
      "cell_type": "code",
      "metadata": {
        "id": "lDjIAeeq3MDP"
      },
      "source": [
        "import pandas as pd\n",
        "from matplotlib import pyplot as plt\n",
        "%matplotlib inline"
      ],
      "execution_count": 1,
      "outputs": []
    },
    {
      "cell_type": "code",
      "metadata": {
        "colab": {
          "base_uri": "https://localhost:8080/",
          "height": 886
        },
        "id": "CtCchB_x3jyO",
        "outputId": "df450cf0-7a5a-44ce-9a90-216765d6b389"
      },
      "source": [
        "df = pd.read_csv(\"insurance_data.csv\")\n",
        "df"
      ],
      "execution_count": 2,
      "outputs": [
        {
          "output_type": "execute_result",
          "data": {
            "text/html": [
              "<div>\n",
              "<style scoped>\n",
              "    .dataframe tbody tr th:only-of-type {\n",
              "        vertical-align: middle;\n",
              "    }\n",
              "\n",
              "    .dataframe tbody tr th {\n",
              "        vertical-align: top;\n",
              "    }\n",
              "\n",
              "    .dataframe thead th {\n",
              "        text-align: right;\n",
              "    }\n",
              "</style>\n",
              "<table border=\"1\" class=\"dataframe\">\n",
              "  <thead>\n",
              "    <tr style=\"text-align: right;\">\n",
              "      <th></th>\n",
              "      <th>age</th>\n",
              "      <th>bought_insurance</th>\n",
              "    </tr>\n",
              "  </thead>\n",
              "  <tbody>\n",
              "    <tr>\n",
              "      <th>0</th>\n",
              "      <td>22</td>\n",
              "      <td>0</td>\n",
              "    </tr>\n",
              "    <tr>\n",
              "      <th>1</th>\n",
              "      <td>25</td>\n",
              "      <td>0</td>\n",
              "    </tr>\n",
              "    <tr>\n",
              "      <th>2</th>\n",
              "      <td>47</td>\n",
              "      <td>1</td>\n",
              "    </tr>\n",
              "    <tr>\n",
              "      <th>3</th>\n",
              "      <td>52</td>\n",
              "      <td>0</td>\n",
              "    </tr>\n",
              "    <tr>\n",
              "      <th>4</th>\n",
              "      <td>46</td>\n",
              "      <td>1</td>\n",
              "    </tr>\n",
              "    <tr>\n",
              "      <th>5</th>\n",
              "      <td>56</td>\n",
              "      <td>1</td>\n",
              "    </tr>\n",
              "    <tr>\n",
              "      <th>6</th>\n",
              "      <td>55</td>\n",
              "      <td>0</td>\n",
              "    </tr>\n",
              "    <tr>\n",
              "      <th>7</th>\n",
              "      <td>60</td>\n",
              "      <td>1</td>\n",
              "    </tr>\n",
              "    <tr>\n",
              "      <th>8</th>\n",
              "      <td>62</td>\n",
              "      <td>1</td>\n",
              "    </tr>\n",
              "    <tr>\n",
              "      <th>9</th>\n",
              "      <td>61</td>\n",
              "      <td>1</td>\n",
              "    </tr>\n",
              "    <tr>\n",
              "      <th>10</th>\n",
              "      <td>18</td>\n",
              "      <td>0</td>\n",
              "    </tr>\n",
              "    <tr>\n",
              "      <th>11</th>\n",
              "      <td>28</td>\n",
              "      <td>0</td>\n",
              "    </tr>\n",
              "    <tr>\n",
              "      <th>12</th>\n",
              "      <td>27</td>\n",
              "      <td>0</td>\n",
              "    </tr>\n",
              "    <tr>\n",
              "      <th>13</th>\n",
              "      <td>29</td>\n",
              "      <td>0</td>\n",
              "    </tr>\n",
              "    <tr>\n",
              "      <th>14</th>\n",
              "      <td>49</td>\n",
              "      <td>1</td>\n",
              "    </tr>\n",
              "    <tr>\n",
              "      <th>15</th>\n",
              "      <td>55</td>\n",
              "      <td>1</td>\n",
              "    </tr>\n",
              "    <tr>\n",
              "      <th>16</th>\n",
              "      <td>25</td>\n",
              "      <td>1</td>\n",
              "    </tr>\n",
              "    <tr>\n",
              "      <th>17</th>\n",
              "      <td>58</td>\n",
              "      <td>1</td>\n",
              "    </tr>\n",
              "    <tr>\n",
              "      <th>18</th>\n",
              "      <td>19</td>\n",
              "      <td>0</td>\n",
              "    </tr>\n",
              "    <tr>\n",
              "      <th>19</th>\n",
              "      <td>18</td>\n",
              "      <td>0</td>\n",
              "    </tr>\n",
              "    <tr>\n",
              "      <th>20</th>\n",
              "      <td>21</td>\n",
              "      <td>0</td>\n",
              "    </tr>\n",
              "    <tr>\n",
              "      <th>21</th>\n",
              "      <td>26</td>\n",
              "      <td>0</td>\n",
              "    </tr>\n",
              "    <tr>\n",
              "      <th>22</th>\n",
              "      <td>40</td>\n",
              "      <td>1</td>\n",
              "    </tr>\n",
              "    <tr>\n",
              "      <th>23</th>\n",
              "      <td>45</td>\n",
              "      <td>1</td>\n",
              "    </tr>\n",
              "    <tr>\n",
              "      <th>24</th>\n",
              "      <td>50</td>\n",
              "      <td>1</td>\n",
              "    </tr>\n",
              "    <tr>\n",
              "      <th>25</th>\n",
              "      <td>54</td>\n",
              "      <td>1</td>\n",
              "    </tr>\n",
              "    <tr>\n",
              "      <th>26</th>\n",
              "      <td>23</td>\n",
              "      <td>0</td>\n",
              "    </tr>\n",
              "  </tbody>\n",
              "</table>\n",
              "</div>"
            ],
            "text/plain": [
              "    age  bought_insurance\n",
              "0    22                 0\n",
              "1    25                 0\n",
              "2    47                 1\n",
              "3    52                 0\n",
              "4    46                 1\n",
              "5    56                 1\n",
              "6    55                 0\n",
              "7    60                 1\n",
              "8    62                 1\n",
              "9    61                 1\n",
              "10   18                 0\n",
              "11   28                 0\n",
              "12   27                 0\n",
              "13   29                 0\n",
              "14   49                 1\n",
              "15   55                 1\n",
              "16   25                 1\n",
              "17   58                 1\n",
              "18   19                 0\n",
              "19   18                 0\n",
              "20   21                 0\n",
              "21   26                 0\n",
              "22   40                 1\n",
              "23   45                 1\n",
              "24   50                 1\n",
              "25   54                 1\n",
              "26   23                 0"
            ]
          },
          "metadata": {
            "tags": []
          },
          "execution_count": 2
        }
      ]
    },
    {
      "cell_type": "code",
      "metadata": {
        "colab": {
          "base_uri": "https://localhost:8080/",
          "height": 204
        },
        "id": "OZRG-sWI3kL8",
        "outputId": "bd27828c-796d-4e34-d598-e5984b5ba38b"
      },
      "source": [
        "df.head()"
      ],
      "execution_count": 3,
      "outputs": [
        {
          "output_type": "execute_result",
          "data": {
            "text/html": [
              "<div>\n",
              "<style scoped>\n",
              "    .dataframe tbody tr th:only-of-type {\n",
              "        vertical-align: middle;\n",
              "    }\n",
              "\n",
              "    .dataframe tbody tr th {\n",
              "        vertical-align: top;\n",
              "    }\n",
              "\n",
              "    .dataframe thead th {\n",
              "        text-align: right;\n",
              "    }\n",
              "</style>\n",
              "<table border=\"1\" class=\"dataframe\">\n",
              "  <thead>\n",
              "    <tr style=\"text-align: right;\">\n",
              "      <th></th>\n",
              "      <th>age</th>\n",
              "      <th>bought_insurance</th>\n",
              "    </tr>\n",
              "  </thead>\n",
              "  <tbody>\n",
              "    <tr>\n",
              "      <th>0</th>\n",
              "      <td>22</td>\n",
              "      <td>0</td>\n",
              "    </tr>\n",
              "    <tr>\n",
              "      <th>1</th>\n",
              "      <td>25</td>\n",
              "      <td>0</td>\n",
              "    </tr>\n",
              "    <tr>\n",
              "      <th>2</th>\n",
              "      <td>47</td>\n",
              "      <td>1</td>\n",
              "    </tr>\n",
              "    <tr>\n",
              "      <th>3</th>\n",
              "      <td>52</td>\n",
              "      <td>0</td>\n",
              "    </tr>\n",
              "    <tr>\n",
              "      <th>4</th>\n",
              "      <td>46</td>\n",
              "      <td>1</td>\n",
              "    </tr>\n",
              "  </tbody>\n",
              "</table>\n",
              "</div>"
            ],
            "text/plain": [
              "   age  bought_insurance\n",
              "0   22                 0\n",
              "1   25                 0\n",
              "2   47                 1\n",
              "3   52                 0\n",
              "4   46                 1"
            ]
          },
          "metadata": {
            "tags": []
          },
          "execution_count": 3
        }
      ]
    },
    {
      "cell_type": "markdown",
      "metadata": {
        "id": "m10oqznv7o2s"
      },
      "source": [
        "Scatter plot is just to see data distribution."
      ]
    },
    {
      "cell_type": "code",
      "metadata": {
        "colab": {
          "base_uri": "https://localhost:8080/",
          "height": 282
        },
        "id": "mQQdjHYi6zsj",
        "outputId": "302fe4cf-6c98-42ef-c989-f6ced4e3d755"
      },
      "source": [
        "plt.scatter(df.age,df.bought_insurance,marker='+',color='red')"
      ],
      "execution_count": 4,
      "outputs": [
        {
          "output_type": "execute_result",
          "data": {
            "text/plain": [
              "<matplotlib.collections.PathCollection at 0x7fd31dfa1588>"
            ]
          },
          "metadata": {
            "tags": []
          },
          "execution_count": 4
        },
        {
          "output_type": "display_data",
          "data": {
            "image/png": "[encoded data removed]",
            "text/plain": [
              "<Figure size 432x288 with 1 Axes>"
            ]
          },
          "metadata": {
            "tags": [],
            "needs_background": "light"
          }
        }
      ]
    },
    {
      "cell_type": "markdown",
      "metadata": {
        "id": "puHg4D4Q77nL"
      },
      "source": [
        "df.shape theke 27,2 pele er ortho : we have 27 rows and 2 columns."
      ]
    },
    {
      "cell_type": "code",
      "metadata": {
        "colab": {
          "base_uri": "https://localhost:8080/"
        },
        "id": "12eKRXcU60JE",
        "outputId": "7e7f17cb-dae3-480d-e5d1-b036107b87a7"
      },
      "source": [
        "df.shape"
      ],
      "execution_count": 5,
      "outputs": [
        {
          "output_type": "execute_result",
          "data": {
            "text/plain": [
              "(27, 2)"
            ]
          },
          "metadata": {
            "tags": []
          },
          "execution_count": 5
        }
      ]
    },
    {
      "cell_type": "code",
      "metadata": {
        "id": "MpGIWn8H60sG"
      },
      "source": [
        "from sklearn.model_selection import train_test_split"
      ],
      "execution_count": 6,
      "outputs": []
    },
    {
      "cell_type": "code",
      "metadata": {
        "id": "3rDmDIp-3kmm"
      },
      "source": [
        "X_train, X_test, Y_train, Y_test = train_test_split(df[['age']],df.bought_insurance,train_size=0.8)"
      ],
      "execution_count": 7,
      "outputs": []
    },
    {
      "cell_type": "code",
      "metadata": {
        "colab": {
          "base_uri": "https://localhost:8080/",
          "height": 700
        },
        "id": "TjSRlTfW3lZd",
        "outputId": "3d35123c-bcfa-4729-add6-8f846cc4851c"
      },
      "source": [
        "X_train"
      ],
      "execution_count": 8,
      "outputs": [
        {
          "output_type": "execute_result",
          "data": {
            "text/html": [
              "<div>\n",
              "<style scoped>\n",
              "    .dataframe tbody tr th:only-of-type {\n",
              "        vertical-align: middle;\n",
              "    }\n",
              "\n",
              "    .dataframe tbody tr th {\n",
              "        vertical-align: top;\n",
              "    }\n",
              "\n",
              "    .dataframe thead th {\n",
              "        text-align: right;\n",
              "    }\n",
              "</style>\n",
              "<table border=\"1\" class=\"dataframe\">\n",
              "  <thead>\n",
              "    <tr style=\"text-align: right;\">\n",
              "      <th></th>\n",
              "      <th>age</th>\n",
              "    </tr>\n",
              "  </thead>\n",
              "  <tbody>\n",
              "    <tr>\n",
              "      <th>12</th>\n",
              "      <td>27</td>\n",
              "    </tr>\n",
              "    <tr>\n",
              "      <th>5</th>\n",
              "      <td>56</td>\n",
              "    </tr>\n",
              "    <tr>\n",
              "      <th>13</th>\n",
              "      <td>29</td>\n",
              "    </tr>\n",
              "    <tr>\n",
              "      <th>15</th>\n",
              "      <td>55</td>\n",
              "    </tr>\n",
              "    <tr>\n",
              "      <th>4</th>\n",
              "      <td>46</td>\n",
              "    </tr>\n",
              "    <tr>\n",
              "      <th>14</th>\n",
              "      <td>49</td>\n",
              "    </tr>\n",
              "    <tr>\n",
              "      <th>11</th>\n",
              "      <td>28</td>\n",
              "    </tr>\n",
              "    <tr>\n",
              "      <th>21</th>\n",
              "      <td>26</td>\n",
              "    </tr>\n",
              "    <tr>\n",
              "      <th>24</th>\n",
              "      <td>50</td>\n",
              "    </tr>\n",
              "    <tr>\n",
              "      <th>9</th>\n",
              "      <td>61</td>\n",
              "    </tr>\n",
              "    <tr>\n",
              "      <th>19</th>\n",
              "      <td>18</td>\n",
              "    </tr>\n",
              "    <tr>\n",
              "      <th>10</th>\n",
              "      <td>18</td>\n",
              "    </tr>\n",
              "    <tr>\n",
              "      <th>2</th>\n",
              "      <td>47</td>\n",
              "    </tr>\n",
              "    <tr>\n",
              "      <th>0</th>\n",
              "      <td>22</td>\n",
              "    </tr>\n",
              "    <tr>\n",
              "      <th>7</th>\n",
              "      <td>60</td>\n",
              "    </tr>\n",
              "    <tr>\n",
              "      <th>18</th>\n",
              "      <td>19</td>\n",
              "    </tr>\n",
              "    <tr>\n",
              "      <th>6</th>\n",
              "      <td>55</td>\n",
              "    </tr>\n",
              "    <tr>\n",
              "      <th>23</th>\n",
              "      <td>45</td>\n",
              "    </tr>\n",
              "    <tr>\n",
              "      <th>20</th>\n",
              "      <td>21</td>\n",
              "    </tr>\n",
              "    <tr>\n",
              "      <th>25</th>\n",
              "      <td>54</td>\n",
              "    </tr>\n",
              "    <tr>\n",
              "      <th>1</th>\n",
              "      <td>25</td>\n",
              "    </tr>\n",
              "  </tbody>\n",
              "</table>\n",
              "</div>"
            ],
            "text/plain": [
              "    age\n",
              "12   27\n",
              "5    56\n",
              "13   29\n",
              "15   55\n",
              "4    46\n",
              "14   49\n",
              "11   28\n",
              "21   26\n",
              "24   50\n",
              "9    61\n",
              "19   18\n",
              "10   18\n",
              "2    47\n",
              "0    22\n",
              "7    60\n",
              "18   19\n",
              "6    55\n",
              "23   45\n",
              "20   21\n",
              "25   54\n",
              "1    25"
            ]
          },
          "metadata": {
            "tags": []
          },
          "execution_count": 8
        }
      ]
    },
    {
      "cell_type": "code",
      "metadata": {
        "colab": {
          "base_uri": "https://localhost:8080/",
          "height": 235
        },
        "id": "zE4P83PB9abE",
        "outputId": "592feb73-5ae3-4f82-a1d0-3f8e0ce6d13a"
      },
      "source": [
        "X_test"
      ],
      "execution_count": 9,
      "outputs": [
        {
          "output_type": "execute_result",
          "data": {
            "text/html": [
              "<div>\n",
              "<style scoped>\n",
              "    .dataframe tbody tr th:only-of-type {\n",
              "        vertical-align: middle;\n",
              "    }\n",
              "\n",
              "    .dataframe tbody tr th {\n",
              "        vertical-align: top;\n",
              "    }\n",
              "\n",
              "    .dataframe thead th {\n",
              "        text-align: right;\n",
              "    }\n",
              "</style>\n",
              "<table border=\"1\" class=\"dataframe\">\n",
              "  <thead>\n",
              "    <tr style=\"text-align: right;\">\n",
              "      <th></th>\n",
              "      <th>age</th>\n",
              "    </tr>\n",
              "  </thead>\n",
              "  <tbody>\n",
              "    <tr>\n",
              "      <th>3</th>\n",
              "      <td>52</td>\n",
              "    </tr>\n",
              "    <tr>\n",
              "      <th>17</th>\n",
              "      <td>58</td>\n",
              "    </tr>\n",
              "    <tr>\n",
              "      <th>22</th>\n",
              "      <td>40</td>\n",
              "    </tr>\n",
              "    <tr>\n",
              "      <th>26</th>\n",
              "      <td>23</td>\n",
              "    </tr>\n",
              "    <tr>\n",
              "      <th>16</th>\n",
              "      <td>25</td>\n",
              "    </tr>\n",
              "    <tr>\n",
              "      <th>8</th>\n",
              "      <td>62</td>\n",
              "    </tr>\n",
              "  </tbody>\n",
              "</table>\n",
              "</div>"
            ],
            "text/plain": [
              "    age\n",
              "3    52\n",
              "17   58\n",
              "22   40\n",
              "26   23\n",
              "16   25\n",
              "8    62"
            ]
          },
          "metadata": {
            "tags": []
          },
          "execution_count": 9
        }
      ]
    },
    {
      "cell_type": "code",
      "metadata": {
        "colab": {
          "base_uri": "https://localhost:8080/"
        },
        "id": "sYvuvzIx9a0X",
        "outputId": "1e1fdf8c-ac6e-4182-da63-404225a4e1d4"
      },
      "source": [
        "Y_train"
      ],
      "execution_count": 10,
      "outputs": [
        {
          "output_type": "execute_result",
          "data": {
            "text/plain": [
              "12    0\n",
              "5     1\n",
              "13    0\n",
              "15    1\n",
              "4     1\n",
              "14    1\n",
              "11    0\n",
              "21    0\n",
              "24    1\n",
              "9     1\n",
              "19    0\n",
              "10    0\n",
              "2     1\n",
              "0     0\n",
              "7     1\n",
              "18    0\n",
              "6     0\n",
              "23    1\n",
              "20    0\n",
              "25    1\n",
              "1     0\n",
              "Name: bought_insurance, dtype: int64"
            ]
          },
          "metadata": {
            "tags": []
          },
          "execution_count": 10
        }
      ]
    },
    {
      "cell_type": "code",
      "metadata": {
        "colab": {
          "base_uri": "https://localhost:8080/"
        },
        "id": "jg4H0xiU9bKi",
        "outputId": "8bd533c5-7159-4d08-ae21-1b8233c25368"
      },
      "source": [
        "Y_test"
      ],
      "execution_count": 11,
      "outputs": [
        {
          "output_type": "execute_result",
          "data": {
            "text/plain": [
              "3     0\n",
              "17    1\n",
              "22    1\n",
              "26    0\n",
              "16    1\n",
              "8     1\n",
              "Name: bought_insurance, dtype: int64"
            ]
          },
          "metadata": {
            "tags": []
          },
          "execution_count": 11
        }
      ]
    },
    {
      "cell_type": "code",
      "metadata": {
        "id": "weKvicdA9bhg"
      },
      "source": [
        "from sklearn.linear_model import LogisticRegression\n",
        "model = LogisticRegression()"
      ],
      "execution_count": 12,
      "outputs": []
    },
    {
      "cell_type": "code",
      "metadata": {
        "colab": {
          "base_uri": "https://localhost:8080/"
        },
        "id": "SAuSBzuO9cLg",
        "outputId": "ec2d48e1-b594-4104-fa09-bc80c01653b7"
      },
      "source": [
        "model.fit(X_train, Y_train)"
      ],
      "execution_count": 13,
      "outputs": [
        {
          "output_type": "execute_result",
          "data": {
            "text/plain": [
              "LogisticRegression(C=1.0, class_weight=None, dual=False, fit_intercept=True,\n",
              "                   intercept_scaling=1, l1_ratio=None, max_iter=100,\n",
              "                   multi_class='auto', n_jobs=None, penalty='l2',\n",
              "                   random_state=None, solver='lbfgs', tol=0.0001, verbose=0,\n",
              "                   warm_start=False)"
            ]
          },
          "metadata": {
            "tags": []
          },
          "execution_count": 13
        }
      ]
    },
    {
      "cell_type": "code",
      "metadata": {
        "colab": {
          "base_uri": "https://localhost:8080/"
        },
        "id": "jWhqoyhT-Fnr",
        "outputId": "c9fa499f-47fc-40ba-9db8-464b02c6612a"
      },
      "source": [
        "model.predict(X_test)"
      ],
      "execution_count": 14,
      "outputs": [
        {
          "output_type": "execute_result",
          "data": {
            "text/plain": [
              "array([1, 1, 0, 0, 0, 1])"
            ]
          },
          "metadata": {
            "tags": []
          },
          "execution_count": 14
        }
      ]
    },
    {
      "cell_type": "code",
      "metadata": {
        "colab": {
          "base_uri": "https://localhost:8080/"
        },
        "id": "Oh9k9Q89-F90",
        "outputId": "12a7ed50-72fe-4267-9764-34c86a343fe3"
      },
      "source": [
        "model.score(X_test, Y_test)"
      ],
      "execution_count": 15,
      "outputs": [
        {
          "output_type": "execute_result",
          "data": {
            "text/plain": [
              "0.5"
            ]
          },
          "metadata": {
            "tags": []
          },
          "execution_count": 15
        }
      ]
    },
    {
      "cell_type": "markdown",
      "metadata": {
        "id": "MsPKB0iu-_Mm"
      },
      "source": [
        "The 1st probability is for not buying insurance,\n",
        "2nd one is the probability for buying insurance."
      ]
    },
    {
      "cell_type": "code",
      "metadata": {
        "colab": {
          "base_uri": "https://localhost:8080/"
        },
        "id": "1mCK4wGY-GT3",
        "outputId": "c8000e63-b070-4b50-9de5-4dd5d8250b8c"
      },
      "source": [
        "model.predict_proba(X_test)"
      ],
      "execution_count": 16,
      "outputs": [
        {
          "output_type": "execute_result",
          "data": {
            "text/plain": [
              "array([[0.08960284, 0.91039716],\n",
              "       [0.02680528, 0.97319472],\n",
              "       [0.556875  , 0.443125  ],\n",
              "       [0.97889087, 0.02110913],\n",
              "       [0.96808419, 0.03191581],\n",
              "       [0.01164713, 0.98835287]])"
            ]
          },
          "metadata": {
            "tags": []
          },
          "execution_count": 16
        }
      ]
    },
    {
      "cell_type": "code",
      "metadata": {
        "colab": {
          "base_uri": "https://localhost:8080/"
        },
        "id": "cGCkIVZe-GrH",
        "outputId": "0133fac6-21f3-4b4c-ac16-96187e466976"
      },
      "source": [
        "model.predict([[56]])"
      ],
      "execution_count": 17,
      "outputs": [
        {
          "output_type": "execute_result",
          "data": {
            "text/plain": [
              "array([1])"
            ]
          },
          "metadata": {
            "tags": []
          },
          "execution_count": 17
        }
      ]
    },
    {
      "cell_type": "code",
      "metadata": {
        "colab": {
          "base_uri": "https://localhost:8080/"
        },
        "id": "Ffc1NGVK-HEd",
        "outputId": "0d51b426-9446-4890-b265-82c3982d91ed"
      },
      "source": [
        "model.predict([[25]])"
      ],
      "execution_count": 18,
      "outputs": [
        {
          "output_type": "execute_result",
          "data": {
            "text/plain": [
              "array([0])"
            ]
          },
          "metadata": {
            "tags": []
          },
          "execution_count": 18
        }
      ]
    },
    {
      "cell_type": "code",
      "metadata": {
        "colab": {
          "base_uri": "https://localhost:8080/"
        },
        "id": "FjjYXpyW9cjK",
        "outputId": "c15378a1-f15a-48c3-f6f7-fb157dc25f55"
      },
      "source": [
        "model.coef_"
      ],
      "execution_count": 19,
      "outputs": [
        {
          "output_type": "execute_result",
          "data": {
            "text/plain": [
              "array([[0.21224857]])"
            ]
          },
          "metadata": {
            "tags": []
          },
          "execution_count": 19
        }
      ]
    },
    {
      "cell_type": "code",
      "metadata": {
        "colab": {
          "base_uri": "https://localhost:8080/"
        },
        "id": "tioE5QDF9dBs",
        "outputId": "129f0e55-a7c1-48a5-f7d4-4e868d2b4d1e"
      },
      "source": [
        "model.intercept_"
      ],
      "execution_count": 20,
      "outputs": [
        {
          "output_type": "execute_result",
          "data": {
            "text/plain": [
              "array([-8.71843176])"
            ]
          },
          "metadata": {
            "tags": []
          },
          "execution_count": 20
        }
      ]
    },
    {
      "cell_type": "markdown",
      "metadata": {
        "id": "bUyLHNyjCnXU"
      },
      "source": [
        "In logicstic regression \n",
        "y = 1/(1+e^(-(m*x+b)))\n",
        "model.coef_ indicates value of m in y=m*x + b equation\n",
        "model.intercept_ indicates value of b in y=m*x + b equation"
      ]
    },
    {
      "cell_type": "code",
      "metadata": {
        "id": "5zq_frJX9dZq"
      },
      "source": [
        "import math\n",
        "def sigmoid(x):\n",
        "  return 1 / (1 + math.exp(-x))"
      ],
      "execution_count": 21,
      "outputs": []
    },
    {
      "cell_type": "code",
      "metadata": {
        "id": "tpSnCJ48A_dO"
      },
      "source": [
        "def prediction_function(age):\n",
        "    z = 0.119 * age - 4.939 # 0.11920896 ~ 0.119 and -4.9396666 ~ -4.939\n",
        "    y = sigmoid(z)\n",
        "    return y"
      ],
      "execution_count": 22,
      "outputs": []
    },
    {
      "cell_type": "code",
      "metadata": {
        "colab": {
          "base_uri": "https://localhost:8080/"
        },
        "id": "S9O9HdHXA_9F",
        "outputId": "e8cb6c8c-8d16-45a0-9457-fb7c77e1167a"
      },
      "source": [
        "age = 35\n",
        "prediction_function(age)"
      ],
      "execution_count": 23,
      "outputs": [
        {
          "output_type": "execute_result",
          "data": {
            "text/plain": [
              "0.31561446181158487"
            ]
          },
          "metadata": {
            "tags": []
          },
          "execution_count": 23
        }
      ]
    },
    {
      "cell_type": "code",
      "metadata": {
        "colab": {
          "base_uri": "https://localhost:8080/"
        },
        "id": "kLdqGXFnBAaz",
        "outputId": "7742111c-df21-46c7-cc3c-0bceb0414233"
      },
      "source": [
        "age = 43\n",
        "prediction_function(age)"
      ],
      "execution_count": 24,
      "outputs": [
        {
          "output_type": "execute_result",
          "data": {
            "text/plain": [
              "0.5443828762475714"
            ]
          },
          "metadata": {
            "tags": []
          },
          "execution_count": 24
        }
      ]
    },
    {
      "cell_type": "markdown",
      "metadata": {
        "id": "ymXeYJJ0E3Bl"
      },
      "source": [
        "Exercise Solution\n",
        "![ex.PNG](data:image/png;base64,iVBORw0KGgoAAAANSUhEUgAABEgAAAD5CAYAAAA0ogAVAAAAAXNSR0IArs4c6QAAAARnQU1BAACxjwv8YQUAAAAJcEhZcwAADsMAAA7DAcdvqGQAAFACSURBVHhe7d3Piy1JduD5+DPeVqDFFGih2lUuO6EXXcxmAt6iC2YhclUUvaoWdJMIxOMyDKLoxZCMQBSzaIhACGoWEtkLFalNQ7xFN1maEeQsCrJo3kA0iCaH6UXSzMLHj/1wO+fYL7/vRcSLG/79wK0Kv25uduyY+Q03y3gRVwsAAAAAAMDBsUECAAAAAAAOjw0SAAAAAABweGyQAAAAAACAw2ODBAAAAAAAHB4bJAAAAAAA4PDYIAEAAAAAAIfHBgkAAAAAADg8NkgAAAAAAMDhsUECAAAAAAAOjw0SAAAAAABweGyQAAAAAACAw2ODBAAAAAAAHN4z2SC5W05XV8vV3tebu3TdhXp3s1xv/TmtvQcAAAAAAB8TGyQfAxskAAAAAAA8K2yQfAxskAAAAAAA8Kw8ww0SNgwAAAAAAMDTuuwNkn/8cvnZq3zdJ8vpP3yfTqz8ubfqnLj/avnFH326/CCV+b0fXS8/+1++Wu7/v3R+o2J7fbN885svlp/8wat0zWfLze9SsdX3v/ty+eKnP97qvPr9T5brn36xfHWfCmSjnyD57pvlV28+Wz790e+l87meXyy/+ofvUiFnvebmj6+XT34/ln/1B58un7351fJNpzgAAAAAALAu/idIvvvrny2v8rU/+sXydXx3+fKncRNDXp+8uVv09sh3f/v58km+xr1e/ZO1/f+aCgYqtj/8ZPlk23SR49zesny7xtGr8+rVT8xGSneD5L+ubf1IXVe96o2e7/+vXy4/0THp1+9/tvxKtwsAAAAAAJou8HeQ+A2U++VX/2PZDPnxX3y73JtNk9Pytd5TePersqHwo8+XL9NPd9z/u7Jp8upff6U2VFxsr79IP5nx/XJ/n35EQ294qDq/+7tT2TT5Z79cvo1vdzdIvv43P0zvXS9f/Kb8+Md3v/milFebMsv3X5cNlVc/WX6ZfsLku39Qmya6XQAAAAAA0PQCNkhWv9MbDq+WV9tPVLh/drMqmxCvls//Tp/7fvnqj/N1ny2/+sf0tonNXxN9/We5zqvl53/bq/OHyy9+k95ubpDcLzev83s/Xn7xdv7vY+SnZ3K7P/7f7DbIt3/xaTqn2gUAAAAAAE0vY4Nk9e2/va7KfvI/fW3+aY3dhLhebt6lt5P721JH2ejQsdXXrC0vN//D6HxD5ydI7t6Un4SR16s/+Mlyuv1q+WbbrLHu3pSyp7fpzeztaTv36V/wMyQAAAAAAIxc/O8gKb5ZvvinZcPg6r/7fLmrfthj/0bM9W3+zar6mrXO9G4xO9/Q+x0k+p//mNer5Qf//LTcvNW/7VVv9kxel/5nkQEAAAAAeGQvZ4Pkdzduc+GV++cu4owNkn+bf+piFps+//Plq2pTpqG3QSLSX7HJf5HGvz75F1+m3ylyxgbJn7BBAgAAAADAyAvZILG/qHV7/eHn7i/SvMc/h5nG5urc81djRhskyve/+3r58vaL5ed/9Mnye1v58ntQ7v4kv9f4JzYAAAAAAGC3F7FBcv9XPyl/teaffb58rjZLfvgn9k/89n9J67fLL7d/oqM3T+ax6V/S+tn/bn+5qv69JtvvAtm5QaJ987/mX7pa/vlP/5e06l8O+4rNEwAAAAAAJi7wl7Sur9c3y/bbOMzv7fgk/sWWf/xy+dn23g+Xz/+92gj57S+XH+d65E/yvovn7v/658sP0/uv/rj3Z347mxl6w+PVT5ab38arv3/35fLzP8zXqk2X5gbJ18svtrLxr9hsMfzj18sX2z+nUX+V5vuvls9zP+XP/KY/DfzdP6g/C8yf+QUAAAAAYOrCN0jsP6355N98Hd4V3//tz8tPlbh/avPtX32m/smKe/3o5P5Zzr6fbvn2r3+2fKLrMa/fWz77K7VN0fkJku9/84vlx81f0lpen7yxPxHz/dvT8mnvGtms2fNPfgAAAAAAOLiL3iAx/7TmR79YyvaI+H65+5PyT1/8P7X57h9+tZz+6NPlB2lz4dUffLp89mdfLt+azRGxb4NEfP+7L5cvfnpdfsHq73+yXP/0i+XL39p/djP8JzbyS1r/7GfL9T/5Qenbqx8sn/7Rz5df/p3+KzbK/Vd1u3/8y+Xrzp8HBgAAAAAA1jPZIAEAAAAAAPh42CABAAAAAACHxwYJAAAAAAA4PDZIAAAAAADA4bFBAgAAAAAADo8NEgAAAAAAcHhskAAAAAAAgMNjgwQAAAAAABweGyQAAAAAAODw2CABAAAAAACHxwYJAAAAAAA4PDZIAAAAAADA4bFBAgAAAAAADo8NEgAAAAAAcHhskAAAAAAAgMNjgwQAAAAAABweGyQAAAAAAODw2CABAAAAAACHxwYJAAAAAAA4PDZIAAAAAADA4bFBAgAAAAAADo8NEgAAAAAAcHhskAAAAAAAgMN7Fhsk97fXy9XVVf16c5dKPKW75bS2fXqbDh/Y3ZuP1S/n3c1yfXW93LxLx5fq7Wm5en2z3KfDD3O/3LxWY/+kOTpn3rk4H9M0vzHucL8+2Djs9bj36vneLaf/+T8up79PhxU5/5vlJifp779Zrv78t4+Ys/+y3Py5au/+t8v1o7Z3nru//I/L1V9+hA8gyYMeh+ds75hN+nT/69880FybzfGdZO6vY/9wcT2Wvf2Ve02Xe6A8AQCAJ/d8NkiqTYO4CHz6zQQ2SC7KY26QPKkL3SB50Pyfiw2SIbe4lsXo9a//Szr6+NggmXtuY/ZQZOzlPnm5GyQAAOBSPeMNEtFYAMmCbH0vvsoCP9ShF2qNDQDZnJC65P+vb29C3bmu0kbdpv0Jl9NaQgntlHp0TIE5f1pOsw0S0z8bR4z7Lm4chfOxrbDpkspf36YMhHbXWHV9ut0qP7Hf7Xpcn0KdKg+DmIXNn6vLkBhOy00uv42njW3rh2m3xDNqrz/2aUMuvRf6X/XdlqnzqWKX12TjwMT5Zp0b6/+X3Lm21lcck0acwo2Bn6d6jlRz+Mz8ZjbPEvu+8dtiXoU61vZ0fJIDmxvfchbrPa2528ru7ZuQMVtjvMltp3P9+RNzr+O30mLqL79Zrtb/j69vUjzxXH7/9Dd1mbBY/Mt3ceMgl9MLrrCwL+f0wrm10LSL6/zTJHEhN75WYv0/lz/dVe6b5W/8+40NiLwg1uwGSYyr5Csft/vrz59+7do0ufpmudExVvHZsZlt2oQ8bOXdRotsenXOSX+vf/1OxR3P6/Gu+6jq0HWvfbnR+dN9kq/zeSm7ltFjF74ezDM7LiuTrzTHt/KjcYrzI+Rezm1zJL6/zfk//2Y5qTp0DiSWOLZyzubTMHmXV55Hub9rPjptzPsQ+1vlJV13/ev/1Kjb5ykeb22oeobzCQAAPLlnvkGyPpSEBW16YggLNrVg0cdpgbo9FKVFTllwxsWbnI+LsVJPLJuvTYuudJ09545Dm7qNtHjNC0N/Pi84ewu+cL60Fa8vcfq486LS5sfGVhapKbbctqk79rks/PRxvSisx6Qfc8iX3ijw5Y20mDX5seNRxSP1qfpn7Y3HPta9tWX64vLnj3O+t/M+p5afV3ksY9u+rVzexmLnVemTz6PPiT0+L78Vc74/fiUP9jj2q7Sfj21edd+01N7Wvs/bpG9pzPQY+Vz5+TOWFkHbQjAtvLbFkJx3C96t7Np2Wihti7O0yI+LrPaCqxx7bnGdFs1ymBfIUV4clgVliGs9v7dcjNMtSKtY1XVJWXD6PPnjXGfpT7jW59kt4n0et/I7Fvx2Aa2EhbjLQT4OX7vx9TFXx6otX7cas9yHLc5Qdr0+50j3KZXVfQj50+Ovz7u6q40AXbfJ12ycYllTl5DY03vVXGnmrJ47hrvGtztuY18fwrXhOjc+23GsZ2ujkacyHurY1+mPAQDAk3v2GyTlnFvcJGFhqc7nxZC8H/7Lcq5XFjrp63JNYhZhelHlF1iiHUemF1jVYmtVtb2x8Wc6N9W11eJN4k39aC0sdXl1vhWnLmvPqzamMeuyhfSjnb8637r/mxB76ofE2Yyt0O2Nx971R5+rcr3S50090WysbQ7qvhujOBt0283xTc7Lb0OV/8b4+eu7c2tV5XHU13F7075Vbc3nz5heFEVhsbUt5OW8WsjJYmg758tGZbFa1z0m5d3CKy8CzcIuljut7eS6pc3w9d5ybnEY3pefosnt6baV3Lfw/67flWqRrhfEq7CwTO+5vArThqor5NzHZvqt+YWu1j6X++i/DkLMuh3XL5W3Os7Y3vaezo/JVaTn1nieNeKscl/GurKjrLSf81THYq+pYtlJXzdro9Ltg70u1LvFZu8BU7YaZ2V0DgAAfBQXtEHSXkDqa8tCRsquiyBZAKXFkpzL11YLV7NQUu1UC6ioXjDFa8J/+ZaXatP3q99XV4d+qf6Za6vFq9SR4tULwUz3R33ditNc77/e2pzEHK5rnFtf7QWnyn0SYnPXxleKR+dgR3tVX8M1eYz7GyRh3Eyuhc93ridq5jWo+1m1ndj+d+LMfP+3tvU4NWLU12yvRn5bJhskzRyEOGP9VV7Vuej9N0imffNj5vOnXk+2QeIWg/r68PVav/nJgR61uBayYLSLtxRHKid1x0WrnNObInvKxfrN+7LITHHbtouwiE398RsLmS6zbYCEBaxbVKpF7SyPuqytX79ai1bpW7svvXM6ltCWjsuNv8n3SudNvvY5MvXpRb3+OtH9n+WnitPU1+5nuGbL3aisbCSU2My4BPaaKpaREKeKI103ayPb0wcpk8dBvi519DdI6va1tNGV2vUxAQCAp3dB/8Smtah01+bFmix0wiJJFleyAJL/L4uuatFmFkqqHb+ASnxMegFVLdBcv/p9bfdPq+p7qg2SkMcYm8RfFouTmDv566vra8amVRsk4/aq+sw1bjGuzulxLXy+bdv92Ft5s22Ha9cy7b614ozlzfVV2/G6uOiPY3tWflue+wbJqG9+zPzx2eqFl10cyXm1cD1zg2Qj16UF1WhjwS7W7II/L/Sk/lCHLC6lHfl/FcPecltf8vltISz/39psiHVv17gFfTgnfQx1rXSZ8PUDbpC4sn31+BbtczqWqq3hBokdszwOmqmvyk+uJ9L9n+WnitPUZ/sZyvbGqZUTOa/6bMYlaNSvYgnlpb30CuVCm+p4pa/b1YZcv6cP25jJ+3oOvu8GSbHF4cYOAAA8rQv6Ja1xoeT/S65dBEn5+Esiczk5f7pdFz6q/mrhZBZGus16AWbiaCwe9QKttajuL9ra/dOqa6cbJG6xJ+Xz4lOdb8Vpyq7iGN2sMeo6ZzG38jdSl2/Gpk0W6N547N1iXJ9z+Qj0+Ua+zxtrHbsax2wQZxwb206/bVHaOi+/DZP8z+ZWdT7082E2SKZ9q8asru88bjG1sosjOa8WP60NEreQ8gtErb/wcos3acfXEd6TX1ypF4LxF2rq+HeXU+/nhbzEHn7BZid+3bfwdS9Polq0uvMSZ37P5VWY+lVdexevUVwE+42KqH2u6qPORRWn6lfIeykb4jR5jO1t7+n8mFxFup+zeVbF2d0w2DNO9f2gc1THYq+pYmmoc2OvG7dxbh9S+V/b8RltkMS52d4krI3mGAAAeArPeIMkLozM+2FhpRY0/jhfoxY5oW636Bkvku0iKV7vNgrysVroBeF4rbu3YMznewvXTn/0Zk+VD7MAlPbS9aFPurytq9XnsmD3x6tcn19wTmL2+atyYrTO1bGEOnMcLgez9t57gySd8/ncjk3ZaLhJEfJW4gxltzh9HuJxybON0+QjH0v51LY/b9s+L78Vc97HLXz99riKLeRRj58bE6Nuz9Y36VtjzML53fPV84uptT6zOHOLMbdADmX19cOF2mAhJde5eqtyoe51Ebkt3NKC2y/k9pbb3i8xVv1x7OI39i/G6fsaj/V/WQ/Xbn3MbdtcbX3OfcjlG3nV+akX1Ipf7Oq6wrkSoz+uFvtu/GMssXw1ZqkPW05C3ao+HYfpX6T7VI2LKx/Plz6GuLfzemz01yIet8tGUpc+rnNtr6ly1uDryP3L143beL8+1PM6zkFfTzyO5/R4bv0azScAAPBRPJ8NknUR4l96YbMJi7tcxi5uRLXA2bNwNWU6i66tTb14SnXlc7LwCvGp9kLd5Xz4k6K9RfPK50LnoIq7WrxK7Knt1KfTG1Vft88i9rvVbhQXqq0xGcUsTI7WV3+x2VmM6hzKq+qzvF/6MmpvPPaqL1KmylHaFMl1D/PZaMvRect/eniLtZrnsZ85tybORlzxfJ6r7ryL89z8GtMNEpHriC89P0Kcur0Qy0NtkKxGfWuMmejPn/49ENWLKb84y4srvRGQF2OxrP2Tp2YRlhfF+aUWjrod+bosxmRx1lpwpU2FTh3F3nLp/dFizy0Gq8VvOJ/Km77KezFXtl/5/Jqn8Kdgfdv5fPpTs7ktH5cpu7503/wCdhX7Wcr3x8jmvdlfk0fpo1zTGTNd93qd/BnfLR+6T75/Kz1m8evBPPO5/fscl5xzc3w4Tq5sOG7ksspBuabKWZONV8rruThr47w+rEJ52w8R24ztt/ue21hfKp78mZBfuq3q8wwAADy6Z7FBgkfQWfy9P1kcPmR9ALR6IYfdwqZAvWjNQm6nC+3LIgvrsmG034fNM1no282Xw5ENkhc2lwAAQMEGyUv10BskUh//JQtoevf//jfzX4HPfQm9cG2V4RXzFBfp9r+0m580qP4Lvy3fqvc5v0S1qeF+SqR1Xesl3meebd6z3Ut/aTLXnmIu/e7/+W+xEQAA8KTYIHmpHnCDJP6TA356BHhMH/Zf9g/G/LOI9eX+i/7ony1cJvfPSD7gpzjed56F66Tto/70RNgcOnD/AQA4CDZIAAAAAADA4bFBAgAAAAAADo8NEgAAAAAAcHhskAAAAAAAgMNjgwQAAAAAABweGyQAAAAAAODw2CABAAAAAACHxwYJAAAAAAA4PDZIAAAAAADA4bFBAgAAAAAADo8NEgAAAAAAcHhskAAAAAAAgMNjgwQAAAAAABweGyQAAAAAAODw2CABAAAAAACHxwYJAAAAAAA4PDZIAAAAAADA4bFBAgAAAAAADo8NEgAAAAAAcHhskAAAAAAAgMNjgwQAAAAAABzeC9gguVtOV9fLzbt0uMP97fVy1bxG6rpaTm/T4VN5d7Ncn9mHI7t7c7VcvblLRw/t/Pn0kMLcfH2z3Kfjoben/WWf2Fn96HjvOj40L3L9+jkgr+vbv/k4nwmP4YHmy2xc9t6fj3sfj50zt2ZxPk4/PtL3oj3M96tHjPOJP9/edxwf4rNut2f6rBBy8JHu5cf0pGP7mB70XnLPSE8wJ+XevL6V6J/B5+IH9tffK4/9ffCp28ue571zv9y8VvOHtRcGLnyDJH5Ytjc7+sKNK9dVN+9H+vDlJj3L437Au2/+T+ysbypPvIA4x0f95viBeSkPYy/ME22Q7PVUD2ofahbn4/TjGSwEep7q+xUbJBcj5OAC7uVzvZixfcwNkscmsT+nucUGyS7P895hgwT7XewGSbjJ1wfI6zensyd4/MA4hQdQuxBqPJTKh/P6XnyVdqqbv3GjSYy9B9wcf7sP8Sbe2h1+mMWYu2U78Yv8waljkXjD+/kaU5+La/rh14stva/rDnHG+HpxZeH96tpctjEGtzI26lwYq1xeX2Pj3do8o/4//Zfr/zdy1l9w6zavl9MbN69M2/I6rVf499N7fnzW13Ch381DPndabvRccOOtxye8VL+3+6P1DSjEnmPuz197j/XLGc28rAZjWPj8yfWx3W0umJyl/OQYG301c1XOr2Vvct7S++Z+68aWDT4bRu338pLYXK86dW2fD6/Xz08Vh55nps8rO09K27Fc/BzO5/V9rvk6RYgjv2fGRV4q9kbefX9tjLFMVsc5GOPVaDxH56w079Z2S3k3bmZM1fnG2MX61Hvu2l7eM50f+/1K3x/ytfrM2PIby+Trm+O4nU/1TuZrNPq8S/29HdRj5sw6vm4cvd7Y+bk06+9srlXfrzQztqmPb1U/Qhy6fRfn2pZu3477/PuHjT3m0+TF5EGbfW6Nv9d4vbEQEuP17Z1qL57XsW/9Sm3f6fmmYpuNra3HxhHnsJpzk3tu1CdLYmjcZ736O/dSv700r5r3ju1/aKPqeydH4uyxlnlT1+1zV7h5NplHGz9WjXYkX6Evqb/hWa3XTmcsTM7TNWFeDr8PDvoksazH/pkie9j24vv2M6E/HqFtHaubFz5W+9mizldjs0rzKL/Xn8ua7dfusZzE7dl+2LhtnH6+rXHv/Czf+q/n2d58ruTc9fp9pjUH4vwwUTfGXXPzRV87mZ/P3eVukKyDG4YrTfD2DdEWJqkMVJhcgw9ff14fd27Q8kEhddmbIwsT0H3olHbS8TaR/LHmJ647HsW/8jFvN29uy+TWt9W6kTSXS3+9qduWzXHYsuW8aXfSx1BWj4OrK8dVxkNi6dc3rT+c9+2150Hut+/nFotvO5U3fffzSI1HzKO+XpnlIcey1WdjtXN4FWJ1YxjOt+dNPPbn7HG/jrpOw+Rl5fNY5dUq8YUjNTcn4xWObb0hTzmHqbyOu/QxCbH15kvsdxkTdzxr3+dFC9eWdvM9WOaH9D2er865fOo2ff/0cSinrov1dvpe5SX2PcSQ8lpiTXkx49LPe4hD5yW0VeqLcb5ff03cvg9Vn7R0r291ubF2MWzlw/lY1twfUj7X5dttzBvN5ifFsZWv748txkCfFy62UU50zBWXj1WcPzaubv78nAnt+tiVQZx2zMf93TfXVDueGSvfx3SsxrKam+v5LfcmB7N8+n7a4/B1L3dV3e2xKOdjP8z8VXwcfmxiDl0OdH26fG57q8/GZtvyceljO85C2m22Kcw4zvtkpXHW+Z7UH86r+sftpfo7OYnnVd2mrVGOVmeOtY87ly/3l9YeA5OnLtenkA9dl9Sdzs/6MBkLf6/4+RrOb9dP+pRi6eZv9ZDtNeeNGZ/ClvXjZtsJbfh6t/L1mOs+NWPS+Tdiu1td0/k4jtvzsejj8LWKyx7Hdny+ep/lW9xb+RhXPj/OZzrfmwPN+TvOZ8mfO94xP5+zy/8dJGEAykDvESZDcyLpm6F9I5RJGs/rCRf+a1+eGDLJtkmj+RtupfvQurm7fWzHGM3iT3nQN1HVjuqjxKXLBtKXdu51jjeh/tK3nPuwu6jKVnGtdNx+DEZ91F/32PZ0n96nfju+zTxkjbFu9V0z7TXHRDnz3jBtN64d57LR71TXufnNynXjchWTl/kYenKulFf9auQ71JPfm+WsOq9zUdj2lcZ8MXXO2h/Ol5inPH5yXe/zrJ6jduxLm/Z9z8QmGvEXrq5QtvdN28XYqLfug9brT2bnlO3vYDxb49dV524cs43Tl91iSLH7MQnlTR+zxhiafOrznZh9vdvYTe7r4Xxt6MYV6Zy0clmPczaOs6q3298WG2c/hmTSx+p6lcPz+ryatKU1+5215r2u27QT9eOSOGxZIeXr+zGp2ld1NNrW5auxdfnrlbVxzu65eZ8sPxY77mk1D+bt+fpHfVupHM5ydN5Yuz4EdWwb08es3dcWnW9pN/ykXK5P4tZfd/swHwvfp6r/uv5ZnxqxeI/Zns6ZF9pNdfkYglCX+1zY2HG2Mesct8e3H5cbn0b+dFvnxW1jtlrnYiy9e64aJz02jbjNfVYZ5XNl6rNlmznIWm3qulpxXpDDb5DkyVBP0nrCCn1tuQml7DpJJJY0geWcvzZoxivXx/dC/aMPKC9M0HWyy8tcN4+/aivEpid7+TAJZXM75tWOK9yAzfK6/hijv8F0jJmOtdzc8z5WHwSb3HZ6bXnQuX6/+uW9/OEsXzfnwUr3adP6BhXGRcWa22uVXYWYtvKdebPp5KExT1t9DX1Q1+e+mr7peSVf65i789fVMShXMXmZj6Gnx09f37qm7ucgZ/58OE59cq/SfmHa2qj5Omu/M1+y0m+ps/95Vsdhc7y12YhHM7GJM8q3xy/GseVxMC6tXIb31PW6P348dCy2v+V6/YrXx8/T/J6fk5bNqWiOv28z58T0Wc0RnyP9qvK5ao5JXV+Ms4455Ea3sb3k86Aub0zma2bbaMUV6fzp8cvac0qM46zq3WLRr8b3OHU+192Ky6jGtc63masqh63+6dizZj6b86Do567dRoy9X3c3D6Gsjq+8cr+ra6t55Nu2Y6Pj0bE3Y9LX+6+3NuM4tWIO9YXrGufWl//cify4T+oXOgfT9nz9fgxV/kSoLx7vy9HOsV7JOZuDOrYsxKj6Ul62vZ4yh+VzWq6RtmLccm6LY9iH+ViUdqKq/6r+aZ8asXgP2l7ITc5/zpN8XQt16XunWa+993z72zjL/O3dZ6q8frXvHR3/qpE/nZ+9cQejseick/p791w5l1T3sIuh0UYvn7qPgbtWty1f67g0PcaF+nwY5eQCsEEiws0ndehJWk9YYa7NE1ZiCJMkf2DI/zduINGMt0yo6YTrCfWmGyHEN4+/aivUoeMuHybtuPqqG7Apxui/gZkcJ7r9Uve8j3Ucuc3yAWD7pnP9PvWvtg8yub4zD1a23aT6EIyx5hhMe7rsKpyT8ub63ryZ5KFxrW47lA3X5/7ZXNm+2XlkPvSzav76OpJGuYrJy3wMPelnibFc37rGxDjJWXW+UX6kmY8QX6pj1r6bL5V8XuoJ5dqfZ3UcNsdbm5P+mdjELB8SX5hvZT5Fsf1z5rI+H74O17fnsp0PkY59b3+1cE1os1fexiDqPsU6qrwHMUch7h33Q1ezT1JHfk/XV9dtY/ImsUzm65bD5jjXdev8teIK55uxjuOc1avtmWuj62d9lOvNXFU5bPWvil1ia+WzOQ+Kfu5sG4XE3q+7m4dJHKK6tppHvu3y2RaoNqr8+JjM9b3vc+P5s6dPlq9vUr/QOZi2V9dnx1DlT6j6pjlqtN0d65RP+9nb72t7np1hi1PaiPFKbNLW3Zt2f7PSh/lYhDhVf6v+q/qnfWrE4j1oe6utPrluUFbX1R/jKJRd89b7XNTHpj87+m+5Z4fG9TrWWdzGKJbOOak/zu963pRzSXUP51wlqo1ZPqt++fi2tuQ6146ix7iQa1Jdo5xcADZIkjBh1sWAPHTGSdT6cPYTK04e+YVTuZycD79krXtT1TeC6YNMzMHEn9qun8dfTe7Qjm5bfZi04hpo3zhWjiXmvpRtXavjLl/P+6i/DvSHTGLbUzf3+9QfpDrkl5xV55RGTnUs4Wt3vWnP9EXHnYzmzSwPjWtL22pebOy89mMY+3KzXteJJ1M58XUYjdxtTN/mY+jJuVJe9auRs1DPrpytqvM2Z1OtPus6Z+034rcknvnnWT0uth+lzXH/TGyiEb+V6gu/xFLlodGv2Vwu5+dzuYozXaNztKe/tfbcjOq6dJ/C1yamOs5cXv4JY2lj1GZLo08mn/r8OObaJJbhfJW23FzpxhVV+XN11+OcjeOc1VvEekwuXZz9GJJJH+V6E6fK4bjP5+dTC3X34v7Qzy1jHIeorq3mkepro20d73RsXd9iHvz3udk9N++T5cvvuKdNDmbt1edt31X+hMrhNEdnjXU8Z/s1iN2Nxfkkj2ts6rlN+hN+maXu07AP87GIc6REWfVf1z/rU2v+Og/angjl7XNCi54LzXmxmX8uihi33Fv6/dlc9lxbw7Gcxe2NYmmd03Ol3V+TX30Pt8Z9G7t5PodzIJDy6/F7rGFMXa04LwgbJJs4gWTXbZtYYfBV3f44TUR9TajbTXTP3nS5jlxvOt7i88daPKdvIjPxJ/FXN3/IpZ7ssf7Yl0YcrZtjE/OpYzPtmWtt2SqHbozP6WP1QeBjDsdrmS0P6YOhU9+0/iS8P5kHOadbjkI/Syx+fHJeTN9N3Lq9PJ9V7NosD437qvTVz7s0N1T77bml6g98PTafpY5xuYrJy8qNWXXsSN2lLZ1XO0/rPnXO5zgbOY1jqu8hP45ayvPWb388ad/npdIZRxdPNbYu5vYYJiH3sb/VGDby44VrpE+dOoNwrMr08h7O+7lV5yC2Wa73Y1b1tzeePs5hf+t5oHPp8xrbLXEEefxdPTEO3a7PgWXbyvnJ1+s465jze7puU98oJ3JO9dHybcXjdlyR7Yc7n+eMzp82iLNVb7u/O+daLwZh5kzdR7nejKPKYYhDlx/WFY+rea/HQ+UknOvGnfq5nXfHJo5olIfYj849Jkf+2moeSfnUXmi7ji3n0PY5tlPy649XuT7T3irkSvex0c6gT1bj3KR+n4Nxe3X9dR5UW4151M3R+4y1OVfHVvh5tlJzdI8Qi443XK/7s5r1Yc9Yqxir/pv6J31qxOI9aHtBKrOn3e69o8/b/JT6W3O8bjfUs/veiXVv56bzcRR3rTqncufjtMd1zBKHmXdSV647xK3j1Dmc53M8B6JQppvHLNXt4tiOd8zP5+xlbpBUN7QVJqaeHFm6Ac2E2G5KedUD7Sf93gmRJ19oL/wXUX1NmdDh1Yo1yzdKfvkbdxB/dTOHunTeYhwlH/EmLvX1cxz0YkvvVzd/ii/GdTJ/RtR/cJicDPpYlV3p3IeYVNv6/BbfmfUH4ZpJfgKd0/Tn77YxqedB60N1i6mKs/5w14Z5aMxj01c3tqe39oOxmlupL1UsvTmyMnUMytVcXsRgDD3pZ4kz1rXNPxNHGi89/rqdNcY7fb6RU2HGYX3t+oaUy+u2xaj9Vl4cO79WjZjrsbU58veE7V+py5fr5cdI/fPzyLQhsU3m8mhu+bksdds/iWfrGvfXjufonOXm3crmffbZIHKZ+nMoli3X9z4jMh23/X6l46xjDlx+7dypYynXT+ZrdU/H8rEvs/ytdFzr+/6XhXu9OIf1ymtwrjXXRjHE61u5j+R6M5aSo9R+jLP/fXWcz8jOXzUuW7963/MGn1umT9EsDzaOOgfmWpWDSPqV2kttmz/zqa6txnabk/FV3zexn637yc8fX2bUJ6sedzGuP8dd8txvr67f5yFfG9qoxm+Qo3PHujl2ObZWrm3bdj7W/aqEe6Dui7lmRx+GYxGuL7FV/Z/k0/SpEUvlIdtL6vuiVpXZ4kivwTn/uRiluBrt5vlYrk8nGraxkbob+WvnR9U/6beNxdZt58V4bko9Zt7oeyHF3fvcmuVzPgdW4V6ox7523mf7Jbn8DRK8OHs+fJ89+XDRHxSHJx+il/tB2RPmKuMM4Jl7Ed9XH9qDP8C/zO9zH09cfA03NfDk5LPEbkzhST3FxgNrGDZI8Py8hAc52aHlm7oiH+gvYdNrsusPAM8RGyQND73QeAnf554bFmrPDJuAH90TbJCwhmGDBM/QRT/IhQ8u92NmBxd/5PBlfEONfSkvNkcAXAI2SBoecKHxkr7PPTeSW35i4RkI/5GIsfjoHnODhDXMhg0SAAAAAABweGyQAAAAAACAw2ODBAAAAAAAHB4bJAAAAAAA4PDYIAEAAAAAAIfHBgkAAAAAADg8NkgAAAAAAMDhsUHyoO6Wk/7b1I/5t6qH7peb11fL6W06fEbk79n3/r62nHuOMQMAAAAAXj42SB6U2yD5aC5zgyTm77T+LwAAAAAAT+uwGyRhoX6VX3ZRfn973TmXNkBuT43zci6/lzYn9E+QhK9P67Wq7tc3y324NrWpjnN9ZpPjrW63twESN0dymevbrQXz/niTwtZdbWpIX7ZYbb9Le7FP17c323mp09aVYyo5DnnoxgYAAAAAwOM45AaJ34zQx+Frv2D3myDbtWmBvy3o5Xznn9iEr33ZsqHgY8rnt42KsDmiNmt03RX/EyQ+Tn9sySZG2ejwfY6xxvO2D80+uRjLBkknhrSR1I4MAAAAAIDHccANErfxYLTOxYW83hDQ5+3GhpwfbZD0Ngt8PUK35Tc8onBNc5PDlfebK2K0wSLlcyxS7vVpOb3OZaXu+HUd80q11Tqf+xz+318bjMYHAAAAAIDHcbwNktHGQOdc+YmKj7VBEr/e/nmMfu3YIGluZPhYtRBr2eSQvkusoT45l+rS8W/ctc0NkhR7+ckTTW9IAQAAAADwNNgg0TrnnssGiW537AM3SNT128aI/GSIxLr+f968eO8NEnlvMA4l3wAAAAAAPA3+iY3ROqd/oqE+/zQbJOf+VIXdIDn7n9isJJ74C1bTdVJ+je/mTbmmufGy85/YbF/768/uKwAAAAAAH45f0ir8ol5tJtjjx9sgiTG4zQfdlju/lhhsJLgNknRcftrDHzeE9vQGRuy73dCI75UY7HGV55Xpc3W9iO/pHAMAAAAA8NgOuUEiwkJdFvzhZTcu8uZEfJXNktbi3W8C5HrDov+cDZKVjun69s5tcvi4/MaCtZX1myL5+tHmSFBvXvh4o1iuFdN8g2TlN35CnnTOAQAAAAB4fIfdIMHzJJsqo40fAAAAAAAeAxskeEbkp1H46REAAAAAwNNjgwTPhvzzG373CAAAAADgY2CDBAAAAAAAHB4bJAAAAAAA4PDYIAEAAAAAAIfHBgkAAAAAADg8NkgAAAAAAMDhsUECAAAAAAAOjw0SAAAAAABweJe7QfLuZrm+ulqu0uv69j6dmLu/vd6uM6/XN0uuJZRRx0NvT8Oyd2/Wut/cpaOndVY/drlbTlfXy827dPhAHj7OFon9ajm9TYcPKczHh8/Lh7lfbl5/SH/j9fH+OK3Z+3ieZn48oQ+cLx/zM+XxfOh8ddzn8svMGQAAAB7SZW6QpM2R8iB93sI3LLYaD8rhATo9ULNB0nPJGyRH84ELznCffdyNkYwNkiN43A0SAAAAYOYiN0hai6Xw3s5NiG5ZtSCs24ibMPmnTbafWJGH8O399mIybpCc1PVuYZQ2fEo96rycW+O4kTrkXKePId7G9bEfa9vbTwL4n7bRPyXgz0ufT8tNrvv1ny7/SpWLCxmbl/EY9MvO4/R9zLmO8euy7bGT8rH9vACTcbm+vTExmcWZGZeUh96CSy948zzSc0P66urLvQ/xrufDPEnn7SJxNEailVd7jc9lYa/dypl53b/ejomd1zG/dyqOeF73c6u3l7OkPaa9emwcsS8l375vfkE+6pM3LGvG2533cbqYTLxS1n0GxM+Ukp9hn1wc/bkg3FzTbYR61OeBvHr3w0pyo++vHFM7Z7356uLR7Y3iMfmIuRznzI5dnLuDzwYAAAC8SC/md5BUD78D4QG9VTY9cMuZUGZ7GI+LsfLQ7o7lQXuwUMgLwu0BOzyYpwfytHgpD99pQZDrS+eHi5pQn18Aqn702s5tqVzE8vl8WoSaXMl79nq/mGnHOi47jjOfL33Ux+HrLcbUJ5+PcD72J7cRx6XXhhvjNA7dcQ7nU125bI4pH291t/vu24pxpv50x2iU1/h1mVue62OzzyqPTohD58PNQ5/ffB9s9evyOUdbfbbftq1R3D4fsd1mmyK06+bAoE+GP9foT8l96k+uW7cbrisx5P74+eP7tJ0f9inWVeLwx5rNeXWc4ijn/ThYdp5G4/zG9nzOuv2exSN1q7bqnKnY3HGcq+U49qUzDwAAAPBivIwNErMgmAsPu9tDdWYXA/pBvnqoF/rB3j2Ie+bBPKgf/DXT3rRvZ9QVjBZIq+HiSsh7+fy4betD4mzFoeoLMefFi5Q9Lac157m85L9VTzUuuu+NMQ3le+Osr63GrO576G9jrmX1nFF8nN2FW2zX5q1otWvqM3n19DwoJO7cz6oPVayqjipnK1VexzqL257XcbbzEcqHOOd9Moa5r5m4Wv1VTO4aZcv5PX3qzwGj1R/d9jCOWj1Os/y6vkg8fpx1HbN43PU+Z35M9bVVvybjBQAAgJfh8jdIwoNrZwHTER7c12uql3qY1g/31cOyCO2mxUTzQb6Q60cP41FcyFSxTB/Mxwug9iKlLh/i2drP7bXKqgWKCIsqF3PPoOwwzk4OSl5VTNLGmlepr5zLiz7bn2oMVDshHjfmdYyKjrGKt17E6vr3ttUao2FMjXa1eg6uQuwpX/prL5zT8ZRXnutV/dV9osat1ZbKo+7nWXHL11ubcfxbMYf6wnWNc+ur/fkS85vLtPPs2syxqL5tfPu5j42yJQeTPq1C7tx7Le255MeoF0etqm+aXztfTdzmtTMeN998zvx4hfbStVW/Gm0BAADg5bnsDZL0wN1evPTpB+Ee/XDfXASEttMirFr4WXK9j9E/rMuDfy5jFhbTB/P2w35m6gps+RCHtN9sr1W3vNeIJ41FqGuS21bZYZydHOi85q+lnvCeXCP1yf9v8TT6rmNV7YR4XD/qGBUdYxXvh22QjMZoGFOjXa3qvwh1NzYavKqPtar+p9ogUf2W68q915rPyo4+9WxjtF0f25L3pvd1+DqWbc7NRlzl/KRPmuTfxaS155Ifo14ctaq+aX4bGyRVPMosHjZIAAAAcKbL3SBJD/u7FgaOfhDu0Q/nzQf10P7+DRLbXlwIhEVK41rT3s5FRWvBI+rY9eJALX4y015rIdG4RtN5mVFl53H6OFy/pa43N+t7Ovb4CxzLdbae4SKoMS6hvHtvo6+txswu/ETob2q7Nb/sYs7l28fZzXfdrtZq19QX2unV3RoTq8pvlVPVtypnKxWLjnUa9yrmV88HMb5X9vRpTNVf9dXFrfobY7VZNrlr5Kacn/Wp1syfcDkMdNvDOGp1O7P8uvnaikebxePGYJYzfW3Vr0ZbAAAAeHkuc4MkPKy+/0KmtSDx7MN9fLAvD9TuuLEY0sLDtnq4DnXnB3+/CAjHa/lc354Hc1+Huma8SPELlni8/5/Y1AuNamGxGZedLaZMzhrHeU6U92J7poyrc7wIimW3eHP9vXHW15p6hFv4rUL8uu8qrlYc5dp4XMZolNe6Xcv1sdlnnT+rGoN0fTe/1X0i5XXOdHnbr9DWdu0kbpHr8+MV7pV6bEw7gz4Zg/uuOheOVTyqrO1bjkHlQtebmNwO++Tjr+dLEc/5Mdgdh+P7Jcb5je35WE39Oq978qLaH+bMHVf9arQFAACAl+ciN0jCw6ssIPwrPwzrh+iG8JDeeajP6of7+CCf27ILjHyu/QAt8do/Gdl4qM/npE39sL7zwXxbVKVXXmT0+rEtQkJb+TppJ55vL66iHG8oE+Ir7dq2nEHZaZwr20c/vvVialbndBFk4k1/TrQ3b/S1vp4UW9WXVFeM0/6JY5Pz4RiJeLyV8XmV97rz3V5r5nXoR/8+Ev5e1HFX+ZV+VONhc3Z6k+KVl7q2N5a5rL0fRcx5/b7KSefaUZ+8af/zOYm9e1+nuZvLrv2OMe7cCFgN+2Tmj72uVsey2RGHVo9ZNMrZ1o+tTje39XycxpOvjWWqWKv7Kr2/qso22gIAAMDLc/m/pBV4ImHx1lkMfojeQvJQHnwBKgt9FrQAAAAA9mODBGgJ/3VZ//RE/K/Ro58meF9skKweeoNE6jt6TgEAAACchQ0SoGP0TwEeEhskqwfcIInjxk+PAAAAADgPGyQAAAAAAODw2CABAAAAAACHxwYJAAAAAAA4PDZIAAAAAADA4bFBAgAAAAAADo8NEgAAAAAAcHhskAAAAAAAgMO74A2Su+V0dbVcpdfpbXp7h/vb6+0683p9s9zrMup46O1pWPbuzVr3m7t09LTO6scukvfr5eZdOnwgDx9nS5wz58yV5+mcfrjxenezXD/C+IkPm+ePM68e29PM25775eb1x5rPT9z2I87bc33Mz/OH88Dj574Hftz7AgAA4P1d6AZJXCBe36bHrzMfnsPDW+MBNzz4poe6sx7w2CD5YDxQn+MDNkgeERskT40Nko+BDZKGyfdAAACAS3GZGyTyMHZ1WpdUWXzY2zZMJnobJPEhPNZbL3ziojT/tMnWVoglv69jKuID9Uld7x70Q7v5nDsv59Y4bqQOOdd5MA/xNq6P/VjbXvOTz9s8xdyVa/V56fNpucl1v/7T5V+pcvHh2uZlvHDol53H6fuYc12PfXvspHxsPy8KZFyub29MTGbBYMYl5WG0CHDjaOO3fffx6jhiDG5cGnNxi7U7f2yboXwoq+ffOK6rN+vcG4yJNp3n3T75OF3/VtWiNN0XreurOWjuUVvvuX20bV0vpzetuVbqqmKWeajjcbGGfnaul3OndZ7Esf7x8rP/vpQLMffqN/PDfUYNctO/P+w4dvPl6tZt78m7zsX1Oq/GGySD++XMvMTY1k8L1f5wLpp+qhjD+zbfoW4VWzhuXRuMPgMc6ct63n+faNffG795DrfvBfq86X/sr+9nN0er/jwDAAB4ei/jd5CEh7fRw7OVH4Ar+UF6/dI+4MVFT3mQdMfy8KcfBp38oL099IWHxRRvekgvD4TpITXXl853FyHCP4ir4/yA3Gw7t6VyEcvn82mxZ3Il79nr/QN2O9Zx2XGc+Xzpoz4OX28xpj75fITzsT+5jTguvTbcGKdx6I+zrdseu7rccWy3xJH7UMqvV5hFmap7Nn9CWVV3KJ+P98Sl6nZj4g3n+a4+lbrlnI9L515ii+fjOd//7doQg5oLpv/n9tHlq5oTk1iq8mmsUg5CPvT8CrGU+mJ+VV/S9Vt7uf6c03y8XXNebmJ7Ple2rtJXp8pjGsMU2yzvNhcpT91xcf1ahet9HnbmJcfmx82MQ67L99Mct+dDPg7tVOPdGauVaddLMerye+r3se3OYerbVl7qVm2Ztoc5Su2o45h/NS8BAACe0IVvkKSHbvdgOBMewKoHzfiAmN/XD3jVg6bQD5vu4dCrH2zrh1HNtBceTNXDZeWMugL/0O6Y9lpl5b18fty29SFxtuJQ9YWY8wO1lD0tpzXnubzkv1VPNS66740xDeU749ycI8ls/lTnm/NJ572Vj8LWp69bqT6eHdek3eE839UnFacuLzGHny7K56Ve1Qd/L2/zIbbv49XXnNVHlZtMXz+OJX+t+igadRY2ll5+t1ir+lX+kxLjPDfD+6Nz/Yiub5z3xhi0cpfN5tZZeWnFZmMvX9f1iHbZVYgjj7WKT5Hy++4Xp+rjpP4U+5bjs3MY69r65q4vOTwzR2I01gAAAI/sZfwEyap6yBoID2/rA3j1aj7gderWD7vNh8tCrh89IEbyMNqIZfqwGK/rLVTqh/12+RDP1n5ur1VWPTQL6Xu+bpCDYFB2GGcnByWvKiZpY82r1FfO6UVJ6U81BqqdEI8b8zrGoh7PonlOzR9fbzjOeTKv2bioslt9KjdC9fHcuNrtFmU8itzGvj75OEscUq/Utc2HFFeov1mvXOtyol+p3+f0sS67Uvf+OJaV6tNGjUfmc9Wdr2urZpFb1eXOr0LdoY55bqr2TP113U3hmrruYd4bOYnn/XuRz1d5pfJn5cV+nel4S17ac8Vcr783pM+mwOdFvWSuT/vk+T5O6vc5mLbXGBMzP3Q/VyVf8xyN5xkAAMDTejEbJOEBzS8+OswDbEd5wGs8wInwEJfacw+HnlzfWziuX20LlVxGtz1/WGw/gGamrsCWD3FI+832WnXLe414wnWprkluW2WHcXZyoPOav5Z6wntyjdQn/7/F0+i7jlW1E+Jx/ahjLKq6lOa50FacP77eUTuR7kf8ujt/wnmVO9XHc+Oy7dbyGGi5jX190mNcFnBSR2gzLzDX/9fj3st7rLMfrzinj80+qHt/HMtK5Xbj51wYy1zGxlLX7xb6qq5otBEwz03Vnqm/rtsIZaUv7fiHea/6IeS8fy9qjot2Vl7s15luo/SjnUN7fYlbrtvKNvtYTPvk+fom9a8tmBxM22vUZ+aH+x5Y6pvnaDzPAAAAntZFbpA0H+bkAc0vPjr0w1mPbmPanns49KoHwLWkPJyGRV7jWtPezgddvzDN6tj1A2tj0WHaaz3cNq7RzhgHXXYep4/D9VvqCr/0Uccef6lguc7WM3wwb4xLKO/ey5pzJJnNn+r8NIeqH404bX1SVo2X6uPZcel2G6bzfNonO6+k/fjLG9N1Evsaz82bUq7Zh8343hBn9bHRB339OJZV617e6oyx2nZtLL38btdU9dd1hhhDHfPcDO+PZrxFaafQ9Y3z3hiDVu6y2dw6Ky+t2Gzs5et2Dn3e5NjM42Awz8T0fnGqPk7q9zk4O4eun3K9ylnJ4TxHPl/DsQYAAHhkF/oTJP7hLx6PHva11sO7Zx+Sff3u2D0ceuEBUD3whbrzw6h/MA3Ha/lc356HRV+HuqZ+2Ne5a+fR/rMH/5At7+Xz9cNv9bC7GZcdx+ly1jiOfZbY83uxPVPG1Tl+MI9lt3hz/d1x9rnS/XV1ueO67yl2HZsZY9XWbP6Esmr+jProjmdj4g3n+a4+qThFsy/6WPg+uLhDHbpeOw/P66O9tp4Tk1hy+S0Huj5Xdzru/QRGFMtssZqxFe78KsST65jkZnx/1HVrPq/hWPV9lnd7PufCzY9NOq9j1XPrzLzkWHt5NXnxOaxyugrvufhWsR1175ocTPrkVX3cV3/Jwbk5bOTBj3c+9jlxx+N5BgAA8LQu95/YhIeo9cEqvfSiZPggudIPwz3mAS+ID5fN9rZz7Yc6eQC0f8aw8aCZz0mb+gFy58NifBgu9eQH314/tgfj0Fa+TtqJ52P/XNkkxxvKuHGwbTmDstM4V7aPfnzrB/xZndMHcxNv+hOXo3nj+2fKxrbzOT1/6jiFLd9f6KR+5HJST2sBsp4r46Xn0zlx2XY9aWc0z31bfgxNnPGdUF7HVI2ZGMwrYefNh/XR9qHxp59HsaTchz8NnM9X869ce3pr53Sr71vf5P1qbP0iOJVXdYxyU7Xn6jdtV1Lsue61TCwfxzx8Pcl7ng/yin/e2M8nbTC3zsxLjM3+yfEqLt3n6jM0vb/pzyndR9/OsE9e1cdoVH89fufkMNVdXRvLVOM7yFGVz05fAAAAnsLL+R0kwCPTiyjgbCz8LkK1uP9gsnkw2NwAAADAs8EGCdAS/ounXtT0/yswsAsbJBfhwTdI5LOEjVUAAICLwAYJ0DH+8XfgTGyQXISH2yDJ/8yInx4BAAC4FGyQAAAAAACAw2ODBAAAAAAAHB4bJAAAAAAA4PDYIAEAAAAAAIfHBgkAAAAAADg8NkgAAAAAAMDhsUECAAAAAAAO70VskNzfXi9Xr2+W+3Q8E8pfXS8379Ibm7vldHW1nN6mw0dy9+ZquXpzl47O9O5muc6x668bhnmZXHuO3f15ezLxfFAeLtLTzK/HcM49du79uNdj1fvQzolzfA881nyRetW9/4GfBaG/h7qPn5/z7o3n8Dn0RHP70dwvN68v87McAACMXf4GSXi4XxcZZyycwsNk85qneXB8sI2BZ7JBspvbIMHlOGcBdt5i7djYIMFDOO+ee5rvcx/HU2yQxM0ReYZggwQAgJfnwjdI5EHlejm9OW9BFh/oT+Eh8fpWX9V4cJRF/fpefJUHr+qBtLHIkMVP6wEqLopi+77eVgymLd1O1Wa8Ntc5zMvwWp+XFPN27sbEaBd5tp7tfZPH01rKX5f6uZWxudRCXtcYwsbYVq48tIaX77dufz13o9qWdnOf5Hzu1yie9zvnx9bFbBaZUna99rbOW0toc71ej5O0Y2Ix9fs4fd2zudQZ51WotzPv6nM+J/vqDV+/WcdR5c/OWZvbOF/sOGV+HopYf3ov3CulLjOmci7PJzm3XuP7qMckl8li22d+FjTLjs8VNr+h7vRZEMY4n3Pj1+uDadNdk8dAj4vPTYynzL1+H2K5m3x+q6M/Xzzpg77P5aVzm+Pd6lpfJfa6/f9j/Xr+uZH79pC5ELrf8++Bpq4030zfH+D73Dy/Wow/npev1zp3ftYJOx9zWZ0T3bZ9X8+R0L/1WNfXj1nlsZVDAADwIlz0Bok8rMgDZ/UQN5EfiuJDoX8IVw89/rw+Dg+K9cOsfShrP+Tlh7F2Oy6GlemffkA1D6vxuu0BPJxb2+nlZXStO459K33x8Yfj8NDpFwHuWPqp4inXrUIOVL78sRLb1+fqxYepO+XC5rucj/3LuYhMzoWOZxTr6Nz6v2Vs02Isx1gdx7IlBn/e8vMvH9sclD76MbXHs7mk+yFs/qvcKfW5Oie9+aOvjfH6MS39C+Pvc+fGeOPHLJUPdfu5k+vKdafzeu7pOG0cq9BWqS/O5V4/bJ6r3Om4fR+qPmlSr8pFHl8393KfZn0IcY3m5XYuj4OLM50f9i/FZNux+cn167HQYq5790CKTdUfz9ux6J+PbJ32OHz9gLnY+lndn5aPaTzn3HGo2/dH51xiiefH+fX02KXcbvHXY6H53NhjqUuPiW5H2DmS++NzWcpb97c3qT++XgAA8FJc8AaJPKDEhy//wDQTyqeHL/vwrx962g/boXy4Np7PD0jy/ulNecDVD7teqSPTbdUPXqZ/4QFOP7ymr80DdDTMi7q2WW6rz/YzcA+RPic+ZxupU7Wz+zqnyp+rN5I8qv418p3fq/tfrtWk3RBjI9eb0blQb8pbq5weT102GY1ndc7UJfQ41nXn873+6frrfK5Ce/Gas+I0sYznQRVDtx752o1f6FM9ppHLh+pLi2m7ynMrNs22tf+zoNGn1a45WXF1NfpQx6XZPoT+9sqaXMp1p/Vz0vZ/V/9cm6LZ7mDsqj41+m2Y8532u3MwU+P5ULmY3J9W657ScbbvuZKreN7E2Pk+d15+dQx13kb30OhcrKu0OZsjrbqqfjTVMQMAgJfhYjdIwoNaejgZPzDV7ENTfNCpH8LbD0D6WomhXLc+cMmDV4pDx+eV64ryUFa3a/qnHzrV180cyMNrLy/q2tK2sj1ESjz+IdfGaK4PD+/rsbwm8Yz6POLjDX3PbZpX6V8/343chb77uuIr1hMXDfk9G/foXOlnc7xMruuctK+J2n3Qiyi10FFjr+U8NdtRYxdyl/pnX/1FR1afc/0czB997bCequ+rTp+zaj6o+RXF+qvYGvW2+h/eU9fn/o7npu9TuV6/5nPSk3pVzI0+6HxkvT6085WptmRs13JSPsYs59I4TfuncpHM5qFX9akzJ2y9+XzdfjXOg/pKHz48F1W7wn22FnXcea7E91rn7Zja+NcYJb7UlpzL1+7Nb6TbrWNo9nETy8ec+PrlXHnPjqV+xVzrfmbjtrM6ZgAA8DJc5gZJerjM9j3QFNVDUViUyUPV+KFNmGvzQ+n2wCgPnlKP/H/7IV2UB86iPFzW7Zr+6YdO9XUzB92H5pW6tnqwFeG89ME+cEY2xv716WHU5yseDfs84tubjb+U7+e7cb3O8USoJ/SzLl+fK/1sx6xzXedk1M92H/QcfOANEj/eyllx9sa+MX/0tcN6qr6vZmMaPgPkGr14FLFeiSPPIdN2o94qznB9jsf2N+dcK/n1fRrEr9TzzpN61blG3XqMZ30I5wfzIfdRyoW+SnuSH/n/fN20f7ZNoWPcoyrv2tzy1hzbun09zkGnD7n/+usPyUXVruh+1tdxrzWctUGy1Z1jDddLfPb73Cy/lm53R26bYj/quVnarGJyTD+TfW238wYAAC7fRW6QbA+y1as8rI20HopCnetDnyzK4kNPfPjKD7aZfeCSh6T4i/v0A3D4hZCDh7L6oU23NXlY1A+d+uttgVcMH/TUtc1y3QXjKlxb3qv7o+i43EN8ua6d656qvUbftXq804N1eq/u/7kPv6P4O2PbitksKCbzwKnOhbp0/XocW/1TcTZi0/WP4hBnxdmMRVGxjGPQ9cjXZZEUhHrce0a6Xu5d3Xe5zvXFtG3GLCrndc4z29/9nwX2ujldj+fy0+iDvzdHfQj9NX1wJIfhF+rmNuT6+LlZ6p31rz5fz4GxKtfV/WZzcP792OqDG4eHyIW6J7J+LlrzQNffnic2VyXGXE7O++9z4/x6Ooa6v+eNra+rtDmrp3W+6kdTHTMAAHgZLvqXtGbnPUyl8tUDUHzgkY2W7aHHL6r8cXq41NeEuicPTuEBzD/EbQ+8qU7zcLoe5/7ph07zAOoedMM5dZ3XePgvD8n22MaX4y99LA+U9cO2ediU/Kl4qnP6oX/wcG2uC3zOVrq+lAs7rqV8a/74Pq+tlgfiUazDfqg6qpjb467nUSvOrDoX2tXxx/pzfb5/9tiNY8pfqd/PF9v+KM6YnzKusV2bk978Gbdh8xWu286n3HbmUxauMf1c+fHMcyeXMeMbldh8f3IcLs4qH7k92yd7Tqjzw3nnyXXqXKNsyfu8DyGubd425Pnj5pfty6R/5ussvtebh56eS4Hpt68/HpexqdtvteX7UPXpQXLhxiTX2em3nxt5nm99cfdkdbzFWK6J8dl8jPPr6f7sy21WnTP9k7p0m7Hu3hyp+jGMWatjBgAAL8PL3CDxiwUnlG890Ifr3ENPei++6gen+ICl2trxgCUPkvbPIbry20O0vNa6JYbcP11/1VZ8aMvXhT9J2XnIHF9rHyhFfqiO5yT2cq15MDaxry/Tfm4jXusfqPPDan71Hj6rB/HAxl+Nvx7HNSb5s6y5j9X8SXSf5aXjeb9z/qG6LDzCy/TJl+3HKapzYRx0DmJbVX25bZ+v1H4+V82lwTiP4hQ6P9e3dzaunfXWbYxzW/1kSEuaI6O5H9oM5Xr3oIvN9ef0NsWVxlrq7n8W1HPg/eZdLZcNfW30IZzv3NO+D+V8L7+u/Ko3R/p9qHMRuNhadWamT8L3u/qsj23G+VC33+tDeH+rx+fkIXIhYjy5jeFn/UrHlOebqa/qe3o/idervszmjGiUKXQ+9+c2sve2jzfnbbuPB3MktnNaTqo+m+eeOmYAAPAyvIgNEjw1eTjsPfheBnmI9gthvGBhkTTZIAFwKOONGAAAcERskGAi/tc6vZlwaQ+VVbzD/7KJy1f/193qv24DODw2SAAAgMcGCeYGP6J8GcY/ko0XyPyTgfXF5ggAhw0SAADgsUECAAAAAAAOjw0SAAAAAABweGyQAAAAAACAw2ODBAAAAAAAHB4bJAAAAAAA4PDYIAEAAAAAAIfHBgkAAAAAADi8y90geXtarq6uzOv69j6dHLt7s5Z/fbP0Ss/OXwzJkerH/e31y+jXMxXym+bi6W16M3NjEebYm7t09My9u1mur66Xm3fpeOScsgAAAADwjFzsBoksMKtF6E5xA+R6uW4sULdFLhskOMv9cvN6MCfZIAEAAACAZ+1CN0hkMfr+i7C4OL1Z6zgtdoka6z298RsJcfGbfzqg2mSofppF13u3nPQ5tSiuNyxi2bzIDptAt7LglGtzfyexZCamGE9s77Sc1PX+p270T0GUNjvCYrjUVZV3501bvXONBbbeTJD4rtec5JzGXLmc6PqC9hjUmxSxnv5PIrl2tmtd/cP5Eccitr2OhbrOb67sHouQs7Ve3Y7EZnLs5rqJqa47xJfOX69x2jEZzMHG+AEAAADAJbjQDZJ1QSo/AZIXaLKI6y5qa3lhLAtQsyiVxd262LsLGwl50Vcvms3COiw09YIwLZbDeX+tPY4bFuMNEruwncTiSWyq/rzg3vrsYq/iCefdwjpLi++Sv7Ro3q63fbHHg3ONBbbuY+xDY7GucmDLDMbA9y+03elv1U77uPTJcWMRx9blXrX9PmOxxZKPt/IuB27c/XGIbWs79bObTzs+rfEDAAAAgEtwmRskaQHoF9h60TayLeiknm2BGxelUodZnLqFbSTt9ReBZcFYLya1ahGc+pH7ZRae4txYXPlxe+16JIa9edX1120Vo3OtBbbOw/DaTNcRFv+9TQ+b71C3zrfWqsfE+h4bJLotU9eZY1HlrJ53pW/tOVnisTkJfD6r/Kt4q1gAAAAA4DJc7i9p9YYLYassBmWxqP8re1zY6UV4+HpdMNYvtwgMC0N1Pi9+Q1zpPbewrBf7dnHqF9G7Y8ncYnbYno9fvcYbJLGOrXyqv9oAUEbnWgtsXb7uQxHKbbHUY9ki1+T+yde9DY52PWpjYD3zYBsk545FlbM6lhB/aM/OsWw738i/7mco52KKLx27vx4AAAAAnr+Xs0ESFmbnbpDEBV9YdMr1aQGrF8P666bQblwk5kVntfgVqpxu29ZtF6++nmks3tkbJOcsbOO10p+8aNf1N3OQjM614vDj5XMQzkss+X1VxzRnW46kP/35066nbBysJR54g+SMsajKP/IGySif58YOAAAAAM/ERW6QNBdpbgE6YhansqBbr5PfO9Ja6Id6ZwtnvdBdDTcAVH11P+zitapnEkvF5WTcXnvh3NXIt66/bqsYnWstsHUe2n1wC3JdxzRn6frbtVxvzESrHhPrA26QnDsWVc5GGyTxnP9JlBJPo+1z8lnFAgAAAACX4UX9DpK9C0q7OI0LRv3PVOwiPJ3Xi1m1SPQL9nC8xtJbjJq2Qz2uXdWPahE9iaXiFuU+Vp+32L6ua5BX3244XmPb6vfX6lzMz205S2Od+zzrQz4ueZ2MwSocmzpafO7bx9063FhUY+s2Fs4ai2pToo4l1JfbC2Olyrtjm+PUT5dPE7ueC2yQAAAAALhQl/tPbPLCOb30Atgs2Br84tQvunuL8NyWrTsvINNrrdcsbl2ctt6yOJfX9e2dWdhWi+hgFItnNwt6/dILaR2PvLoL/pUpK/X6hbfvu+7L6FyoJ72/1hv+qlA6X/dhpcuH9mO/ypxwOWteP8pjVo91UW9KWHYsqrFtbCzsHovq2jqWkLdejl27Qrcd/9S0LuPyqXPX6AcAAAAAXIKX8ztIgPclmwVmswMAAAAAcDRskODw5KclRj8pAwAAAAB4+dggwXHlf+bDT48AAAAAwOGxQQIAAAAAAA6PDRIAAAAAAHB4bJAAAAAAAIDDY4MEAAAAAAAcHhskAAAAAADg8NggAQAAAAAAh8cGCQAAAAAAODw2SAAAAAAAwOGxQQIAAAAAAA6PDRIAAAAAAHB4bJAAAAAAAIDDY4MEAAAAAAAcHhskAAAAAADg8NggAQAAAAAAh8cGCQAAAAAAODw2SAAAAAAAwOGxQQIAAAAAAA6PDRIAAAAAAHB4bJAAAAAAAIDDY4MEAAAAAAAcHhskAAAAAADg8NggAQAAAAAAh8cGCQAAAAAAODw2SAAAAAAAwOFd/af/+z8vvHjx4sWLFy9evHjx4sWLFy9eR37xEyQAAAAAAODw2CABAAAAAACHxwYJAAAAAAA4PDZIAAAAAADA4bFBAgAAAAAADo8NEgAAAAAAcHhskAAAAAAAgMNjgwQAAAAAABweGyQAAAAAAODw2CABAAAAAACHxwYJAAAAAAA4PDZIAAAAAADA4bFBAgAAAAAADo8NEgAAAAAAcHhskAAAAAAAgMNjgwQAAAAAABweGyQAAAAAAODw2CABAAAAAACHxwYJAAAAAAA4PDZIAAAAAADA4bFBAgAAAAAADo8NEgAAAAAAcHhskAAAAAAAgMNjgwQAAAAAABweGyQAAAAAAODgluX/BxiF7lv11xKGAAAAAElFTkSuQmCC)"
      ]
    },
    {
      "cell_type": "code",
      "metadata": {
        "colab": {
          "base_uri": "https://localhost:8080/",
          "height": 224
        },
        "id": "EhZajYGLBA0B",
        "outputId": "c9849282-5606-4b6e-eaf8-ec54d64224e6"
      },
      "source": [
        "df = pd.read_csv(\"HR_comma_sep.csv\")\n",
        "df.head()\n"
      ],
      "execution_count": 25,
      "outputs": [
        {
          "output_type": "execute_result",
          "data": {
            "text/html": [
              "<div>\n",
              "<style scoped>\n",
              "    .dataframe tbody tr th:only-of-type {\n",
              "        vertical-align: middle;\n",
              "    }\n",
              "\n",
              "    .dataframe tbody tr th {\n",
              "        vertical-align: top;\n",
              "    }\n",
              "\n",
              "    .dataframe thead th {\n",
              "        text-align: right;\n",
              "    }\n",
              "</style>\n",
              "<table border=\"1\" class=\"dataframe\">\n",
              "  <thead>\n",
              "    <tr style=\"text-align: right;\">\n",
              "      <th></th>\n",
              "      <th>satisfaction_level</th>\n",
              "      <th>last_evaluation</th>\n",
              "      <th>number_project</th>\n",
              "      <th>average_montly_hours</th>\n",
              "      <th>time_spend_company</th>\n",
              "      <th>Work_accident</th>\n",
              "      <th>left</th>\n",
              "      <th>promotion_last_5years</th>\n",
              "      <th>Department</th>\n",
              "      <th>salary</th>\n",
              "    </tr>\n",
              "  </thead>\n",
              "  <tbody>\n",
              "    <tr>\n",
              "      <th>0</th>\n",
              "      <td>0.38</td>\n",
              "      <td>0.53</td>\n",
              "      <td>2</td>\n",
              "      <td>157</td>\n",
              "      <td>3</td>\n",
              "      <td>0</td>\n",
              "      <td>1</td>\n",
              "      <td>0</td>\n",
              "      <td>sales</td>\n",
              "      <td>low</td>\n",
              "    </tr>\n",
              "    <tr>\n",
              "      <th>1</th>\n",
              "      <td>0.80</td>\n",
              "      <td>0.86</td>\n",
              "      <td>5</td>\n",
              "      <td>262</td>\n",
              "      <td>6</td>\n",
              "      <td>0</td>\n",
              "      <td>1</td>\n",
              "      <td>0</td>\n",
              "      <td>sales</td>\n",
              "      <td>medium</td>\n",
              "    </tr>\n",
              "    <tr>\n",
              "      <th>2</th>\n",
              "      <td>0.11</td>\n",
              "      <td>0.88</td>\n",
              "      <td>7</td>\n",
              "      <td>272</td>\n",
              "      <td>4</td>\n",
              "      <td>0</td>\n",
              "      <td>1</td>\n",
              "      <td>0</td>\n",
              "      <td>sales</td>\n",
              "      <td>medium</td>\n",
              "    </tr>\n",
              "    <tr>\n",
              "      <th>3</th>\n",
              "      <td>0.72</td>\n",
              "      <td>0.87</td>\n",
              "      <td>5</td>\n",
              "      <td>223</td>\n",
              "      <td>5</td>\n",
              "      <td>0</td>\n",
              "      <td>1</td>\n",
              "      <td>0</td>\n",
              "      <td>sales</td>\n",
              "      <td>low</td>\n",
              "    </tr>\n",
              "    <tr>\n",
              "      <th>4</th>\n",
              "      <td>0.37</td>\n",
              "      <td>0.52</td>\n",
              "      <td>2</td>\n",
              "      <td>159</td>\n",
              "      <td>3</td>\n",
              "      <td>0</td>\n",
              "      <td>1</td>\n",
              "      <td>0</td>\n",
              "      <td>sales</td>\n",
              "      <td>low</td>\n",
              "    </tr>\n",
              "  </tbody>\n",
              "</table>\n",
              "</div>"
            ],
            "text/plain": [
              "   satisfaction_level  last_evaluation  ...  Department  salary\n",
              "0                0.38             0.53  ...       sales     low\n",
              "1                0.80             0.86  ...       sales  medium\n",
              "2                0.11             0.88  ...       sales  medium\n",
              "3                0.72             0.87  ...       sales     low\n",
              "4                0.37             0.52  ...       sales     low\n",
              "\n",
              "[5 rows x 10 columns]"
            ]
          },
          "metadata": {
            "tags": []
          },
          "execution_count": 25
        }
      ]
    },
    {
      "cell_type": "code",
      "metadata": {
        "colab": {
          "base_uri": "https://localhost:8080/"
        },
        "id": "gWQirdYfDkVh",
        "outputId": "7887fb7e-3995-4cc2-d27f-2e65b3f5b36e"
      },
      "source": [
        "left = df[df.left==1]\n",
        "left.shape"
      ],
      "execution_count": 26,
      "outputs": [
        {
          "output_type": "execute_result",
          "data": {
            "text/plain": [
              "(3571, 10)"
            ]
          },
          "metadata": {
            "tags": []
          },
          "execution_count": 26
        }
      ]
    },
    {
      "cell_type": "code",
      "metadata": {
        "colab": {
          "base_uri": "https://localhost:8080/"
        },
        "id": "KZgApTf7Dkwp",
        "outputId": "8437398f-9b40-453a-891c-a72d1e5e3abe"
      },
      "source": [
        "retained = df[df.left==0]\n",
        "retained.shape"
      ],
      "execution_count": 27,
      "outputs": [
        {
          "output_type": "execute_result",
          "data": {
            "text/plain": [
              "(11428, 10)"
            ]
          },
          "metadata": {
            "tags": []
          },
          "execution_count": 27
        }
      ]
    },
    {
      "cell_type": "code",
      "metadata": {
        "colab": {
          "base_uri": "https://localhost:8080/",
          "height": 162
        },
        "id": "8DKSbeRJDlIZ",
        "outputId": "fc3a8049-d2a1-4ffe-ddbe-41b08a074fab"
      },
      "source": [
        "df.groupby('left').mean()"
      ],
      "execution_count": 28,
      "outputs": [
        {
          "output_type": "execute_result",
          "data": {
            "text/html": [
              "<div>\n",
              "<style scoped>\n",
              "    .dataframe tbody tr th:only-of-type {\n",
              "        vertical-align: middle;\n",
              "    }\n",
              "\n",
              "    .dataframe tbody tr th {\n",
              "        vertical-align: top;\n",
              "    }\n",
              "\n",
              "    .dataframe thead th {\n",
              "        text-align: right;\n",
              "    }\n",
              "</style>\n",
              "<table border=\"1\" class=\"dataframe\">\n",
              "  <thead>\n",
              "    <tr style=\"text-align: right;\">\n",
              "      <th></th>\n",
              "      <th>satisfaction_level</th>\n",
              "      <th>last_evaluation</th>\n",
              "      <th>number_project</th>\n",
              "      <th>average_montly_hours</th>\n",
              "      <th>time_spend_company</th>\n",
              "      <th>Work_accident</th>\n",
              "      <th>promotion_last_5years</th>\n",
              "    </tr>\n",
              "    <tr>\n",
              "      <th>left</th>\n",
              "      <th></th>\n",
              "      <th></th>\n",
              "      <th></th>\n",
              "      <th></th>\n",
              "      <th></th>\n",
              "      <th></th>\n",
              "      <th></th>\n",
              "    </tr>\n",
              "  </thead>\n",
              "  <tbody>\n",
              "    <tr>\n",
              "      <th>0</th>\n",
              "      <td>0.666810</td>\n",
              "      <td>0.715473</td>\n",
              "      <td>3.786664</td>\n",
              "      <td>199.060203</td>\n",
              "      <td>3.380032</td>\n",
              "      <td>0.175009</td>\n",
              "      <td>0.026251</td>\n",
              "    </tr>\n",
              "    <tr>\n",
              "      <th>1</th>\n",
              "      <td>0.440098</td>\n",
              "      <td>0.718113</td>\n",
              "      <td>3.855503</td>\n",
              "      <td>207.419210</td>\n",
              "      <td>3.876505</td>\n",
              "      <td>0.047326</td>\n",
              "      <td>0.005321</td>\n",
              "    </tr>\n",
              "  </tbody>\n",
              "</table>\n",
              "</div>"
            ],
            "text/plain": [
              "      satisfaction_level  last_evaluation  ...  Work_accident  promotion_last_5years\n",
              "left                                       ...                                      \n",
              "0               0.666810         0.715473  ...       0.175009               0.026251\n",
              "1               0.440098         0.718113  ...       0.047326               0.005321\n",
              "\n",
              "[2 rows x 7 columns]"
            ]
          },
          "metadata": {
            "tags": []
          },
          "execution_count": 28
        }
      ]
    },
    {
      "cell_type": "markdown",
      "metadata": {
        "id": "yvtL8iGUHO92"
      },
      "source": [
        "From above table we can draw following conclusions,\n",
        "\n",
        "1) **Satisfaction Level**: Satisfaction level seems to be relatively low (0.44) in employees leaving the firm vs the retained ones (0.66)\n",
        "2) **Average Monthly Hours**: Average monthly hours are higher in employees leaving the firm (199 vs 207)\n",
        "3) **Promotion Last 5 Years**: Employees who are given promotion are likely to be retained at firm"
      ]
    },
    {
      "cell_type": "code",
      "metadata": {
        "id": "MzomeCG5DlfU",
        "colab": {
          "base_uri": "https://localhost:8080/",
          "height": 327
        },
        "outputId": "92670101-de0e-4562-8f1b-5d23b2c7a66f"
      },
      "source": [
        "pd.crosstab(df.salary,df.left).plot(kind='bar')"
      ],
      "execution_count": 29,
      "outputs": [
        {
          "output_type": "execute_result",
          "data": {
            "text/plain": [
              "<matplotlib.axes._subplots.AxesSubplot at 0x7fd30fb86898>"
            ]
          },
          "metadata": {
            "tags": []
          },
          "execution_count": 29
        },
        {
          "output_type": "display_data",
          "data": {
            "image/png": "[encoded data removed]",
            "text/plain": [
              "<Figure size 432x288 with 1 Axes>"
            ]
          },
          "metadata": {
            "tags": [],
            "needs_background": "light"
          }
        }
      ]
    },
    {
      "cell_type": "markdown",
      "metadata": {
        "id": "e6SBTsX78eSM"
      },
      "source": [
        "Above bar chart shows employees with high salaries are likely to not leave the company"
      ]
    },
    {
      "cell_type": "code",
      "metadata": {
        "id": "D6TtJhyQDl4q",
        "colab": {
          "base_uri": "https://localhost:8080/",
          "height": 353
        },
        "outputId": "1570acc6-a395-42b8-a2e3-bec085dbad7c"
      },
      "source": [
        "pd.crosstab(df.Department,df.left).plot(kind='bar')"
      ],
      "execution_count": 30,
      "outputs": [
        {
          "output_type": "execute_result",
          "data": {
            "text/plain": [
              "<matplotlib.axes._subplots.AxesSubplot at 0x7fd30fb0fcc0>"
            ]
          },
          "metadata": {
            "tags": []
          },
          "execution_count": 30
        },
        {
          "output_type": "display_data",
          "data": {
            "image/png": "[encoded data removed]",
            "text/plain": [
              "<Figure size 432x288 with 1 Axes>"
            ]
          },
          "metadata": {
            "tags": [],
            "needs_background": "light"
          }
        }
      ]
    },
    {
      "cell_type": "markdown",
      "metadata": {
        "id": "7QwHxsfi8vCs"
      },
      "source": [
        "From above chart there seem to be some impact of department on employee retention but it is not major hence we will ignore department in our analysis."
      ]
    },
    {
      "cell_type": "markdown",
      "metadata": {
        "id": "EX5UiWzO9Mdr"
      },
      "source": [
        "From the data analysis so far we can conclude that we will use following variables as independant variables in our model\n",
        "1)  **Satisfaction Level**\n",
        "2)  **Average Monthly Hours**\n",
        "3)  **Promotion Last 5 Years**\n",
        "4)  **Salary**"
      ]
    },
    {
      "cell_type": "code",
      "metadata": {
        "colab": {
          "base_uri": "https://localhost:8080/",
          "height": 204
        },
        "id": "L9BL3-Uv8gUs",
        "outputId": "54043bac-fbd0-48e1-afa2-6cfaf8f8d25a"
      },
      "source": [
        "subdf = df[['satisfaction_level','average_montly_hours','promotion_last_5years','salary']]\n",
        "subdf.head()"
      ],
      "execution_count": 31,
      "outputs": [
        {
          "output_type": "execute_result",
          "data": {
            "text/html": [
              "<div>\n",
              "<style scoped>\n",
              "    .dataframe tbody tr th:only-of-type {\n",
              "        vertical-align: middle;\n",
              "    }\n",
              "\n",
              "    .dataframe tbody tr th {\n",
              "        vertical-align: top;\n",
              "    }\n",
              "\n",
              "    .dataframe thead th {\n",
              "        text-align: right;\n",
              "    }\n",
              "</style>\n",
              "<table border=\"1\" class=\"dataframe\">\n",
              "  <thead>\n",
              "    <tr style=\"text-align: right;\">\n",
              "      <th></th>\n",
              "      <th>satisfaction_level</th>\n",
              "      <th>average_montly_hours</th>\n",
              "      <th>promotion_last_5years</th>\n",
              "      <th>salary</th>\n",
              "    </tr>\n",
              "  </thead>\n",
              "  <tbody>\n",
              "    <tr>\n",
              "      <th>0</th>\n",
              "      <td>0.38</td>\n",
              "      <td>157</td>\n",
              "      <td>0</td>\n",
              "      <td>low</td>\n",
              "    </tr>\n",
              "    <tr>\n",
              "      <th>1</th>\n",
              "      <td>0.80</td>\n",
              "      <td>262</td>\n",
              "      <td>0</td>\n",
              "      <td>medium</td>\n",
              "    </tr>\n",
              "    <tr>\n",
              "      <th>2</th>\n",
              "      <td>0.11</td>\n",
              "      <td>272</td>\n",
              "      <td>0</td>\n",
              "      <td>medium</td>\n",
              "    </tr>\n",
              "    <tr>\n",
              "      <th>3</th>\n",
              "      <td>0.72</td>\n",
              "      <td>223</td>\n",
              "      <td>0</td>\n",
              "      <td>low</td>\n",
              "    </tr>\n",
              "    <tr>\n",
              "      <th>4</th>\n",
              "      <td>0.37</td>\n",
              "      <td>159</td>\n",
              "      <td>0</td>\n",
              "      <td>low</td>\n",
              "    </tr>\n",
              "  </tbody>\n",
              "</table>\n",
              "</div>"
            ],
            "text/plain": [
              "   satisfaction_level  average_montly_hours  promotion_last_5years  salary\n",
              "0                0.38                   157                      0     low\n",
              "1                0.80                   262                      0  medium\n",
              "2                0.11                   272                      0  medium\n",
              "3                0.72                   223                      0     low\n",
              "4                0.37                   159                      0     low"
            ]
          },
          "metadata": {
            "tags": []
          },
          "execution_count": 31
        }
      ]
    },
    {
      "cell_type": "markdown",
      "metadata": {
        "id": "8kXvzcTn9w33"
      },
      "source": [
        "Tackle salary dummy variable\n",
        "\n",
        "Salary has all text data. It needs to be converted to numbers and we will use dummy variable for that. Check my one hot encoding tutorial to understand purpose behind dummy variables."
      ]
    },
    {
      "cell_type": "code",
      "metadata": {
        "id": "ET-Tciqm8gt9"
      },
      "source": [
        "salary_dummies = pd.get_dummies(subdf.salary, prefix=\"salary\")"
      ],
      "execution_count": 32,
      "outputs": []
    },
    {
      "cell_type": "code",
      "metadata": {
        "id": "ZwqSP_078hVa"
      },
      "source": [
        "df_with_dummies = pd.concat([subdf,salary_dummies],axis='columns')"
      ],
      "execution_count": 33,
      "outputs": []
    },
    {
      "cell_type": "code",
      "metadata": {
        "colab": {
          "base_uri": "https://localhost:8080/",
          "height": 204
        },
        "id": "OA2sxgLB8hsW",
        "outputId": "759b7e21-f71c-49ba-97fd-679af35e43ed"
      },
      "source": [
        "df_with_dummies.head()"
      ],
      "execution_count": 35,
      "outputs": [
        {
          "output_type": "execute_result",
          "data": {
            "text/html": [
              "<div>\n",
              "<style scoped>\n",
              "    .dataframe tbody tr th:only-of-type {\n",
              "        vertical-align: middle;\n",
              "    }\n",
              "\n",
              "    .dataframe tbody tr th {\n",
              "        vertical-align: top;\n",
              "    }\n",
              "\n",
              "    .dataframe thead th {\n",
              "        text-align: right;\n",
              "    }\n",
              "</style>\n",
              "<table border=\"1\" class=\"dataframe\">\n",
              "  <thead>\n",
              "    <tr style=\"text-align: right;\">\n",
              "      <th></th>\n",
              "      <th>satisfaction_level</th>\n",
              "      <th>average_montly_hours</th>\n",
              "      <th>promotion_last_5years</th>\n",
              "      <th>salary</th>\n",
              "      <th>salary_high</th>\n",
              "      <th>salary_low</th>\n",
              "      <th>salary_medium</th>\n",
              "    </tr>\n",
              "  </thead>\n",
              "  <tbody>\n",
              "    <tr>\n",
              "      <th>0</th>\n",
              "      <td>0.38</td>\n",
              "      <td>157</td>\n",
              "      <td>0</td>\n",
              "      <td>low</td>\n",
              "      <td>0</td>\n",
              "      <td>1</td>\n",
              "      <td>0</td>\n",
              "    </tr>\n",
              "    <tr>\n",
              "      <th>1</th>\n",
              "      <td>0.80</td>\n",
              "      <td>262</td>\n",
              "      <td>0</td>\n",
              "      <td>medium</td>\n",
              "      <td>0</td>\n",
              "      <td>0</td>\n",
              "      <td>1</td>\n",
              "    </tr>\n",
              "    <tr>\n",
              "      <th>2</th>\n",
              "      <td>0.11</td>\n",
              "      <td>272</td>\n",
              "      <td>0</td>\n",
              "      <td>medium</td>\n",
              "      <td>0</td>\n",
              "      <td>0</td>\n",
              "      <td>1</td>\n",
              "    </tr>\n",
              "    <tr>\n",
              "      <th>3</th>\n",
              "      <td>0.72</td>\n",
              "      <td>223</td>\n",
              "      <td>0</td>\n",
              "      <td>low</td>\n",
              "      <td>0</td>\n",
              "      <td>1</td>\n",
              "      <td>0</td>\n",
              "    </tr>\n",
              "    <tr>\n",
              "      <th>4</th>\n",
              "      <td>0.37</td>\n",
              "      <td>159</td>\n",
              "      <td>0</td>\n",
              "      <td>low</td>\n",
              "      <td>0</td>\n",
              "      <td>1</td>\n",
              "      <td>0</td>\n",
              "    </tr>\n",
              "  </tbody>\n",
              "</table>\n",
              "</div>"
            ],
            "text/plain": [
              "   satisfaction_level  average_montly_hours  ...  salary_low salary_medium\n",
              "0                0.38                   157  ...           1             0\n",
              "1                0.80                   262  ...           0             1\n",
              "2                0.11                   272  ...           0             1\n",
              "3                0.72                   223  ...           1             0\n",
              "4                0.37                   159  ...           1             0\n",
              "\n",
              "[5 rows x 7 columns]"
            ]
          },
          "metadata": {
            "tags": []
          },
          "execution_count": 35
        }
      ]
    },
    {
      "cell_type": "markdown",
      "metadata": {
        "id": "WvmlpfLR-MHT"
      },
      "source": [
        "Now we need to remove salary column which is text data. It is already replaced by dummy variables so we can safely remove it."
      ]
    },
    {
      "cell_type": "code",
      "metadata": {
        "colab": {
          "base_uri": "https://localhost:8080/",
          "height": 204
        },
        "id": "0KxRkO2r8iGS",
        "outputId": "e7091c43-dbcd-42c6-9eca-84839547e5b9"
      },
      "source": [
        "df_with_dummies.drop('salary',axis='columns',inplace=True)\n",
        "df_with_dummies.head()"
      ],
      "execution_count": 36,
      "outputs": [
        {
          "output_type": "execute_result",
          "data": {
            "text/html": [
              "<div>\n",
              "<style scoped>\n",
              "    .dataframe tbody tr th:only-of-type {\n",
              "        vertical-align: middle;\n",
              "    }\n",
              "\n",
              "    .dataframe tbody tr th {\n",
              "        vertical-align: top;\n",
              "    }\n",
              "\n",
              "    .dataframe thead th {\n",
              "        text-align: right;\n",
              "    }\n",
              "</style>\n",
              "<table border=\"1\" class=\"dataframe\">\n",
              "  <thead>\n",
              "    <tr style=\"text-align: right;\">\n",
              "      <th></th>\n",
              "      <th>satisfaction_level</th>\n",
              "      <th>average_montly_hours</th>\n",
              "      <th>promotion_last_5years</th>\n",
              "      <th>salary_high</th>\n",
              "      <th>salary_low</th>\n",
              "      <th>salary_medium</th>\n",
              "    </tr>\n",
              "  </thead>\n",
              "  <tbody>\n",
              "    <tr>\n",
              "      <th>0</th>\n",
              "      <td>0.38</td>\n",
              "      <td>157</td>\n",
              "      <td>0</td>\n",
              "      <td>0</td>\n",
              "      <td>1</td>\n",
              "      <td>0</td>\n",
              "    </tr>\n",
              "    <tr>\n",
              "      <th>1</th>\n",
              "      <td>0.80</td>\n",
              "      <td>262</td>\n",
              "      <td>0</td>\n",
              "      <td>0</td>\n",
              "      <td>0</td>\n",
              "      <td>1</td>\n",
              "    </tr>\n",
              "    <tr>\n",
              "      <th>2</th>\n",
              "      <td>0.11</td>\n",
              "      <td>272</td>\n",
              "      <td>0</td>\n",
              "      <td>0</td>\n",
              "      <td>0</td>\n",
              "      <td>1</td>\n",
              "    </tr>\n",
              "    <tr>\n",
              "      <th>3</th>\n",
              "      <td>0.72</td>\n",
              "      <td>223</td>\n",
              "      <td>0</td>\n",
              "      <td>0</td>\n",
              "      <td>1</td>\n",
              "      <td>0</td>\n",
              "    </tr>\n",
              "    <tr>\n",
              "      <th>4</th>\n",
              "      <td>0.37</td>\n",
              "      <td>159</td>\n",
              "      <td>0</td>\n",
              "      <td>0</td>\n",
              "      <td>1</td>\n",
              "      <td>0</td>\n",
              "    </tr>\n",
              "  </tbody>\n",
              "</table>\n",
              "</div>"
            ],
            "text/plain": [
              "   satisfaction_level  average_montly_hours  ...  salary_low  salary_medium\n",
              "0                0.38                   157  ...           1              0\n",
              "1                0.80                   262  ...           0              1\n",
              "2                0.11                   272  ...           0              1\n",
              "3                0.72                   223  ...           1              0\n",
              "4                0.37                   159  ...           1              0\n",
              "\n",
              "[5 rows x 6 columns]"
            ]
          },
          "metadata": {
            "tags": []
          },
          "execution_count": 36
        }
      ]
    },
    {
      "cell_type": "code",
      "metadata": {
        "colab": {
          "base_uri": "https://localhost:8080/",
          "height": 204
        },
        "id": "1JcOKyqZ9_6W",
        "outputId": "80b55d9a-6b50-44e9-8766-e2ce8df267c3"
      },
      "source": [
        "X = df_with_dummies\n",
        "X.head()"
      ],
      "execution_count": 37,
      "outputs": [
        {
          "output_type": "execute_result",
          "data": {
            "text/html": [
              "<div>\n",
              "<style scoped>\n",
              "    .dataframe tbody tr th:only-of-type {\n",
              "        vertical-align: middle;\n",
              "    }\n",
              "\n",
              "    .dataframe tbody tr th {\n",
              "        vertical-align: top;\n",
              "    }\n",
              "\n",
              "    .dataframe thead th {\n",
              "        text-align: right;\n",
              "    }\n",
              "</style>\n",
              "<table border=\"1\" class=\"dataframe\">\n",
              "  <thead>\n",
              "    <tr style=\"text-align: right;\">\n",
              "      <th></th>\n",
              "      <th>satisfaction_level</th>\n",
              "      <th>average_montly_hours</th>\n",
              "      <th>promotion_last_5years</th>\n",
              "      <th>salary_high</th>\n",
              "      <th>salary_low</th>\n",
              "      <th>salary_medium</th>\n",
              "    </tr>\n",
              "  </thead>\n",
              "  <tbody>\n",
              "    <tr>\n",
              "      <th>0</th>\n",
              "      <td>0.38</td>\n",
              "      <td>157</td>\n",
              "      <td>0</td>\n",
              "      <td>0</td>\n",
              "      <td>1</td>\n",
              "      <td>0</td>\n",
              "    </tr>\n",
              "    <tr>\n",
              "      <th>1</th>\n",
              "      <td>0.80</td>\n",
              "      <td>262</td>\n",
              "      <td>0</td>\n",
              "      <td>0</td>\n",
              "      <td>0</td>\n",
              "      <td>1</td>\n",
              "    </tr>\n",
              "    <tr>\n",
              "      <th>2</th>\n",
              "      <td>0.11</td>\n",
              "      <td>272</td>\n",
              "      <td>0</td>\n",
              "      <td>0</td>\n",
              "      <td>0</td>\n",
              "      <td>1</td>\n",
              "    </tr>\n",
              "    <tr>\n",
              "      <th>3</th>\n",
              "      <td>0.72</td>\n",
              "      <td>223</td>\n",
              "      <td>0</td>\n",
              "      <td>0</td>\n",
              "      <td>1</td>\n",
              "      <td>0</td>\n",
              "    </tr>\n",
              "    <tr>\n",
              "      <th>4</th>\n",
              "      <td>0.37</td>\n",
              "      <td>159</td>\n",
              "      <td>0</td>\n",
              "      <td>0</td>\n",
              "      <td>1</td>\n",
              "      <td>0</td>\n",
              "    </tr>\n",
              "  </tbody>\n",
              "</table>\n",
              "</div>"
            ],
            "text/plain": [
              "   satisfaction_level  average_montly_hours  ...  salary_low  salary_medium\n",
              "0                0.38                   157  ...           1              0\n",
              "1                0.80                   262  ...           0              1\n",
              "2                0.11                   272  ...           0              1\n",
              "3                0.72                   223  ...           1              0\n",
              "4                0.37                   159  ...           1              0\n",
              "\n",
              "[5 rows x 6 columns]"
            ]
          },
          "metadata": {
            "tags": []
          },
          "execution_count": 37
        }
      ]
    },
    {
      "cell_type": "code",
      "metadata": {
        "id": "2KU5hKqV-AR7"
      },
      "source": [
        "Y = df.left"
      ],
      "execution_count": 40,
      "outputs": []
    },
    {
      "cell_type": "code",
      "metadata": {
        "id": "n7cApEeK-A2N"
      },
      "source": [
        "from sklearn.model_selection import train_test_split\n",
        "X_train, X_test, Y_train, Y_test = train_test_split(X,Y,train_size=0.3)"
      ],
      "execution_count": 48,
      "outputs": []
    },
    {
      "cell_type": "code",
      "metadata": {
        "id": "lWwkhZw2-BRu"
      },
      "source": [
        "from sklearn.linear_model import LogisticRegression\n",
        "model = LogisticRegression()"
      ],
      "execution_count": 49,
      "outputs": []
    },
    {
      "cell_type": "code",
      "metadata": {
        "colab": {
          "base_uri": "https://localhost:8080/"
        },
        "id": "fWVx6V8z-12i",
        "outputId": "7eaa3610-5a10-4fae-eae6-a47517e08cdc"
      },
      "source": [
        "model.fit(X_train, Y_train)"
      ],
      "execution_count": 50,
      "outputs": [
        {
          "output_type": "execute_result",
          "data": {
            "text/plain": [
              "LogisticRegression(C=1.0, class_weight=None, dual=False, fit_intercept=True,\n",
              "                   intercept_scaling=1, l1_ratio=None, max_iter=100,\n",
              "                   multi_class='auto', n_jobs=None, penalty='l2',\n",
              "                   random_state=None, solver='lbfgs', tol=0.0001, verbose=0,\n",
              "                   warm_start=False)"
            ]
          },
          "metadata": {
            "tags": []
          },
          "execution_count": 50
        }
      ]
    },
    {
      "cell_type": "code",
      "metadata": {
        "colab": {
          "base_uri": "https://localhost:8080/"
        },
        "id": "yto2NvX4-2Rz",
        "outputId": "1271f253-3ecb-47eb-9345-4dfab9ca81f8"
      },
      "source": [
        "model.predict(X_test)"
      ],
      "execution_count": 51,
      "outputs": [
        {
          "output_type": "execute_result",
          "data": {
            "text/plain": [
              "array([0, 0, 0, ..., 0, 1, 0])"
            ]
          },
          "metadata": {
            "tags": []
          },
          "execution_count": 51
        }
      ]
    },
    {
      "cell_type": "markdown",
      "metadata": {
        "id": "AI4_0orS_Xsv"
      },
      "source": [
        "Accuracy of the model is:"
      ]
    },
    {
      "cell_type": "code",
      "metadata": {
        "colab": {
          "base_uri": "https://localhost:8080/"
        },
        "id": "89wgBggi_YJm",
        "outputId": "d39a609b-8cbd-4b1b-d831-5a81755510aa"
      },
      "source": [
        "model.score(X_test,Y_test)\n"
      ],
      "execution_count": 52,
      "outputs": [
        {
          "output_type": "execute_result",
          "data": {
            "text/plain": [
              "0.7814285714285715"
            ]
          },
          "metadata": {
            "tags": []
          },
          "execution_count": 52
        }
      ]
    }
  ]
}